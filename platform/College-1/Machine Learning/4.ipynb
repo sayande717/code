{
  "cells": [
    {
      "cell_type": "markdown",
      "metadata": {},
      "source": [
        "## **Assignment:** Multi-Layer Perceptron in XOR Gate"
      ]
    },
    {
      "cell_type": "markdown",
      "metadata": {
        "id": "k0YuZh47-EVV"
      },
      "source": [
        "### Multi-Layer Perceptron\n",
        "- A `Multi-Layer Perceptron` is a fully-connected feed-forward neural network.\n",
        "- In the `Sequential` class of models, we can have linear stack of layers.\n",
        "- In the `Dense` class, every neuron is connected to every other neuron in the next layer, and so on."
      ]
    },
    {
      "cell_type": "code",
      "execution_count": 3,
      "metadata": {
        "id": "mdaWXKCGDuRj"
      },
      "outputs": [],
      "source": [
        "# import packages\n",
        "import numpy as np\n",
        "import matplotlib.pyplot as plt\n",
        "from keras.models import Sequential\n",
        "from keras.layers import Dense\n",
        "from keras.optimizers import Adam\n"
      ]
    },
    {
      "cell_type": "code",
      "execution_count": 4,
      "metadata": {
        "id": "sBZv8Ld6Ex7o"
      },
      "outputs": [],
      "source": [
        "# Problem: XOR Gate.\n",
        "x = np.array([[0,0],\n",
        "              [1,1],\n",
        "              [0,1],\n",
        "              [1,0]])\n",
        "y = np.array([[0],\n",
        "             [0],\n",
        "             [1],\n",
        "             [1]])"
      ]
    },
    {
      "cell_type": "markdown",
      "metadata": {
        "id": "OMLnLKQ4FdBJ"
      },
      "source": [
        "# Model\n",
        "- ReLU:\n",
        "    - If $wx+v < 0 -> 0$\n",
        "    - If $wx+v \\geq 0 -> 1$\n",
        "- model.add(): Add the layers one by one. We need a total of 2 Dense layers.\n",
        "- Dense():\n",
        "    - **2**: The first parameter, specifies the number of nuerons in the dense layer.\n",
        "    - **input_dim**: Input dimensions, equal to the number of features.\n",
        "    - **activation**: Activation function to be used within the layer.\n",
        "    - If we put `input_dim`, the layer becomes the input layer, otherwise it is a hidden layer.\n",
        "- Compile() is used to configure the loss function, optimizer and metrics.\n",
        "    - **loss**: Loss Function measures how well your model's predictions match the actual target values (y) during training. It quantifies the error the model is making.\n",
        "    - **optimizer**: An algorithm that adjusts the weights and biases of your neural network during training to minimize the loss function.\n",
        "    - **metrics**: Used to evaluate the performance of your model. They provide a way to measure how well the model is doing, often on a separate dataset (validation or test set) that wasn't used for training.\n",
        "- fit():\n",
        "    - **epochs**: 1 iteration of: Predicting output for all the samples and matching them with the ground truth. After 1 epoch, weights are adjusted, and we continue to the next iteration.\n",
        "    - **verbose**: Set the level of output to print.\n",
        "        - **0**: Nothing is printed.\n",
        "        - **1**: A progress bar is displayed showing the progress of each epoch.\n",
        "        - **2**: One line per epoch is printed to show the loss and metrics.\n",
        "- evaluate(): Evaluate the performance of the model using custom I/P & O/P values."
      ]
    },
    {
      "cell_type": "code",
      "execution_count": 10,
      "metadata": {
        "colab": {
          "base_uri": "https://localhost:8080/"
        },
        "id": "uv7XZm8VFNNn",
        "outputId": "841827f0-6fae-49d6-aa2a-0e7ec5d364a0"
      },
      "outputs": [],
      "source": [
        "# Create the model, add the layers\n",
        "num_epochs = 900\n",
        "xor_model = Sequential() # Initialise the model\n",
        "xor_model.add(Dense(4,input_dim=2,activation='relu',name='Input')) # Add a Dense layer. Parameters: (number of neurons, input dimensions, activation function)\n",
        "xor_model.add(Dense(2,activation='sigmoid',name='Hidden1'))\n",
        "xor_model.add(Dense(1,activation='sigmoid',name='Output'))\n",
        "xor_model.compile(loss='binary_crossentropy',optimizer=Adam(),metrics=['accuracy']) # described above\n",
        "# Train the model\n",
        "TrainingLog = xor_model.fit(x,y,epochs=num_epochs,verbose=0) # (input, output, epochs, verbose)"
      ]
    },
    {
      "cell_type": "markdown",
      "metadata": {
        "id": "Fw_u_fJ-KrWj"
      },
      "source": [
        "- `evaluate()`: Prints the accuracy and loss of the trained model.\n",
        "- `predict()`: Used to predict the output for a given input.\n",
        "    - **np.round()**: Round off the values to [0,1]"
      ]
    },
    {
      "cell_type": "code",
      "execution_count": 11,
      "metadata": {},
      "outputs": [
        {
          "data": {
            "text/plain": [
              "Text(0, 0.5, 'Accuracy')"
            ]
          },
          "execution_count": 11,
          "metadata": {},
          "output_type": "execute_result"
        },
        {
          "data": {
            "image/png": "[encoded data removed]",
            "text/plain": [
              "<Figure size 640x480 with 1 Axes>"
            ]
          },
          "metadata": {},
          "output_type": "display_data"
        }
      ],
      "source": [
        "plot_x = np.linspace(0,num_epochs,num_epochs)\n",
        "plot_y = TrainingLog.history['accuracy']\n",
        "plt.plot(plot_x,plot_y)\n",
        "plt.title('Accuracy Graph')\n",
        "plt.xlabel('Epochs')\n",
        "plt.ylabel('Accuracy')"
      ]
    },
    {
      "cell_type": "code",
      "execution_count": 12,
      "metadata": {
        "colab": {
          "base_uri": "https://localhost:8080/"
        },
        "id": "f0FuCGwyKcYn",
        "outputId": "64252a88-712f-4d4e-c49e-22d6d11e442e"
      },
      "outputs": [
        {
          "name": "stdout",
          "output_type": "stream",
          "text": [
            "1/1 [==============================] - 0s 102ms/step - loss: 0.3388 - accuracy: 1.0000\n",
            "Evaluation:  [0.3388211131095886, 1.0]\n",
            "[[0.]\n",
            " [0.]\n",
            " [1.]\n",
            " [1.]]\n"
          ]
        }
      ],
      "source": [
        "# Evaluate the model\n",
        "print(\"Evaluation: \",xor_model.evaluate(x,y))\n",
        "print(np.round(xor_model.predict(x)))"
      ]
    }
  ],
  "metadata": {
    "accelerator": "GPU",
    "colab": {
      "gpuType": "T4",
      "provenance": []
    },
    "kernelspec": {
      "display_name": "college-1",
      "language": "python",
      "name": "python3"
    },
    "language_info": {
      "codemirror_mode": {
        "name": "ipython",
        "version": 3
      },
      "file_extension": ".py",
      "mimetype": "text/x-python",
      "name": "python",
      "nbconvert_exporter": "python",
      "pygments_lexer": "ipython3",
      "version": "3.9.21"
    }
  },
  "nbformat": 4,
  "nbformat_minor": 0
}

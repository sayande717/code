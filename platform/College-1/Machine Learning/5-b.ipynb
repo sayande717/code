{
  "cells": [
    {
      "cell_type": "markdown",
      "metadata": {},
      "source": [
        "## **Assignment:** 2 MLP's with 4 inputs, predicting 1 output each."
      ]
    },
    {
      "cell_type": "code",
      "execution_count": 36,
      "metadata": {
        "id": "5WImIYssMadR"
      },
      "outputs": [],
      "source": [
        "# Import\n",
        "import pandas as pd\n",
        "from sklearn.model_selection import train_test_split\n",
        "from sklearn.preprocessing import StandardScaler\n",
        "from keras.models import Sequential\n",
        "from keras.layers import Dense"
      ]
    },
    {
      "cell_type": "code",
      "execution_count": 37,
      "metadata": {
        "colab": {
          "base_uri": "https://localhost:8080/"
        },
        "id": "mtE3gwL0M02N",
        "outputId": "baee32d6-dc1a-4698-a3f6-fb63bb4b8613"
      },
      "outputs": [],
      "source": [
        "# Getting dataset\n",
        "train_data = pd.read_csv('./datasets/5_Training.csv')\n",
        "test_data = pd.read_excel('./datasets/5_Test.xlsx')\n",
        "# test_data.info()\n",
        "# train_data.head()"
      ]
    },
    {
      "cell_type": "code",
      "execution_count": 38,
      "metadata": {},
      "outputs": [],
      "source": [
        "# Preprocessing: Fit & Transform\n",
        "train_data.rename(columns={\"A (mm)\":\"x1\",\n",
        "                           \"B (mm)\":\"x2\",\n",
        "                           \"C (mm3/s)\":\"x3\",\n",
        "                           \"D (degrees)\":\"x4\",\n",
        "                           \"y1 (?m)\":\"y1\",\n",
        "                           \"y2 (m.sec)\":\"y2\"},\n",
        "                  inplace=True)\n",
        "test_data.rename(columns={\"A (mm)\":\"x1\",\n",
        "                           \"B (mm)\":\"x2\",\n",
        "                           \"C (mm3/s)\":\"x3\",\n",
        "                           \"D (degrees)\":\"x4\",\n",
        "                           \"y1 (μm)\":\"y1\",\n",
        "                           \"y2 (m.sec)\":\"y2\"},\n",
        "                  inplace=True)\n",
        "\n",
        "# Training Data\n",
        "x = train_data[[\"x1\",\"x2\",\"x3\",\"x4\"]]\n",
        "y1 = train_data[[\"y1\"]]\n",
        "y2 = train_data[[\"y2\"]]\n",
        "\n",
        "x_scaler = StandardScaler()\n",
        "y1_scaler = StandardScaler()\n",
        "y2_scaler = StandardScaler()\n",
        "\n",
        "x_scaled = x_scaler.fit_transform(x)\n",
        "y1_scaled = y1_scaler.fit_transform(y1)\n",
        "y2_scaled = y2_scaler.fit_transform(y2)\n",
        "x_train,x_val,y1_train,y1_val = train_test_split(x_scaled,y1_scaled,test_size=0.2,random_state=42)\n",
        "x_train,x_val,y2_train,y2_val = train_test_split(x_scaled,y2_scaled,test_size=0.2,random_state=42)\n",
        "\n",
        "# Test Data\n",
        "x_test = test_data[[\"x1\",\"x2\",\"x3\",\"x4\"]]\n",
        "y1_test = test_data[[\"y1\"]]\n",
        "y2_test = test_data[[\"y2\"]]\n",
        "x_test_scaled = x_scaler.fit_transform(x_test)\n",
        "y1_test_scaled = y1_scaler.fit_transform(y1_test)\n",
        "y2_test_scaled = y2_scaler.fit_transform(y2_test)"
      ]
    },
    {
      "cell_type": "code",
      "execution_count": 39,
      "metadata": {
        "id": "q4HVRmZ9NuLp"
      },
      "outputs": [
        {
          "data": {
            "text/plain": [
              "<tensorflow.python.keras.callbacks.History at 0x7fb3d16a7af0>"
            ]
          },
          "execution_count": 39,
          "metadata": {},
          "output_type": "execute_result"
        }
      ],
      "source": [
        "# Build the model: Model 1\n",
        "# Model 1 = [x1,x2,x3,x4] -> y1\n",
        "num_epochs = 250\n",
        "model1 = Sequential()\n",
        "model1.add(Dense(4,input_dim=4,activation=\"sigmoid\",name=\"Input\"))\n",
        "model1.add(Dense(4,activation='sigmoid',name=\"Hidden1\"))\n",
        "model1.add(Dense(4,activation='sigmoid',name=\"Hidden2\"))\n",
        "model1.add(Dense(4,activation='sigmoid',name=\"Hidden3\"))\n",
        "model1.add(Dense(4,activation='sigmoid',name=\"Hidden4\"))\n",
        "model1.add(Dense(1,activation='linear',name=\"Output\"))\n",
        "\n",
        "# Compile & Fit\n",
        "model1.compile(loss='mean_squared_error',optimizer='adam',metrics=['mean_squared_error'])\n",
        "model1.fit(x_train,y1_train,epochs=num_epochs,verbose=0)"
      ]
    },
    {
      "cell_type": "code",
      "execution_count": 40,
      "metadata": {},
      "outputs": [
        {
          "data": {
            "text/plain": [
              "<tensorflow.python.keras.callbacks.History at 0x7fb3d15e4bb0>"
            ]
          },
          "execution_count": 40,
          "metadata": {},
          "output_type": "execute_result"
        }
      ],
      "source": [
        "# Build the model: Model 2\n",
        "# Model 2 = [x1,x2,x3,x4] -> y2\n",
        "model2 = Sequential()\n",
        "model2.add(Dense(4,input_dim=4,activation='sigmoid',name=\"Input\"))\n",
        "model2.add(Dense(4,activation='sigmoid',name=\"Hidden1\"))\n",
        "model2.add(Dense(4,activation='sigmoid',name=\"Hidden2\"))\n",
        "model2.add(Dense(4,activation='sigmoid',name=\"Hidden3\"))\n",
        "model2.add(Dense(4,activation='sigmoid',name=\"Hidden4\"))\n",
        "model2.add(Dense(1,activation='linear',name=\"Output\"))\n",
        "model2.compile(loss='mean_squared_error',optimizer='adam',metrics=['mean_squared_error'])\n",
        "model2.fit(x_train,y2_train,epochs=num_epochs,verbose=0)"
      ]
    },
    {
      "cell_type": "code",
      "execution_count": 41,
      "metadata": {},
      "outputs": [
        {
          "name": "stdout",
          "output_type": "stream",
          "text": [
            "1/1 [==============================] - 0s 69ms/step - loss: 0.1106 - mean_squared_error: 0.1106\n",
            "Model 1 (y1):  [0.11056729406118393, 0.11056729406118393]\n",
            "\n",
            "1/1 [==============================] - 0s 57ms/step - loss: 0.1645 - mean_squared_error: 0.1645\n",
            "Model 2 (y2):  [0.16448882222175598, 0.16448882222175598]\n"
          ]
        }
      ],
      "source": [
        "# Evaluate Models\n",
        "print(\"Model 1 (y1): \",model1.evaluate(x_test_scaled,y1_test_scaled))\n",
        "print()\n",
        "print(\"Model 2 (y2): \",model2.evaluate(x_test_scaled,y2_test_scaled))"
      ]
    },
    {
      "cell_type": "code",
      "execution_count": 47,
      "metadata": {},
      "outputs": [
        {
          "name": "stdout",
          "output_type": "stream",
          "text": [
            "Model 1: \n",
            "Predicted y1: \n",
            " [[ 5.3857613]\n",
            " [19.82224  ]\n",
            " [12.63042  ]\n",
            " [12.63042  ]\n",
            " [15.577037 ]]\n",
            "\n",
            "Ground Truth: \n",
            "       y1\n",
            "0   5.85\n",
            "1  19.16\n",
            "2  12.58\n",
            "3  12.58\n",
            "4  14.71\n"
          ]
        }
      ],
      "source": [
        "# Model 1: Predict output (top 5 elements)\n",
        "pred_y1 = y1_scaler.inverse_transform(model1.predict(x_test_scaled))[:5]\n",
        "ground_truth_y1 = y1_test[:5]\n",
        "\n",
        "print(\"Model 1: \")\n",
        "print(\"Predicted y1: \\n\",pred_y1)\n",
        "print()\n",
        "print(\"Ground Truth: \\n\",ground_truth_y1)"
      ]
    },
    {
      "cell_type": "code",
      "execution_count": 48,
      "metadata": {},
      "outputs": [
        {
          "name": "stdout",
          "output_type": "stream",
          "text": [
            "Model 2: \n",
            "Predicted y2: \n",
            " [[487383.47]\n",
            " [427573.62]\n",
            " [456059.4 ]\n",
            " [456059.4 ]\n",
            " [441189.38]]\n",
            "\n",
            "Ground Truth: \n",
            "        y2\n",
            "0  488000\n",
            "1  447000\n",
            "2  450500\n",
            "3  450500\n",
            "4  435000\n"
          ]
        }
      ],
      "source": [
        "# Model 2: Predict output (top 5 elements)\n",
        "\n",
        "pred_y2 = y2_scaler.inverse_transform(model2.predict(x_test_scaled))[:5]\n",
        "ground_truth_y2 = y2_test[:5]\n",
        "\n",
        "print(\"Model 2: \")\n",
        "print(\"Predicted y2: \\n\",pred_y2)\n",
        "print(\"\\nGround Truth: \\n\",ground_truth_y2)"
      ]
    }
  ],
  "metadata": {
    "accelerator": "GPU",
    "colab": {
      "gpuType": "T4",
      "provenance": []
    },
    "kernelspec": {
      "display_name": "college-1",
      "language": "python",
      "name": "python3"
    },
    "language_info": {
      "codemirror_mode": {
        "name": "ipython",
        "version": 3
      },
      "file_extension": ".py",
      "mimetype": "text/x-python",
      "name": "python",
      "nbconvert_exporter": "python",
      "pygments_lexer": "ipython3",
      "version": "3.9.21"
    }
  },
  "nbformat": 4,
  "nbformat_minor": 0
}

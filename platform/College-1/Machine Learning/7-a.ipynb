{
  "cells": [
    {
      "cell_type": "markdown",
      "metadata": {
        "id": "CTBc413sRK5b"
      },
      "source": [
        "# Model: K Nearest Neighbours (KNN)\n",
        "- KNN doesn't require training, it can directly classify the test data.\n",
        "- We use the [Iris dataset](https://en.wikipedia.org/wiki/Iris_flower_data_set) for this model.\n",
        "- If $K=3$, we classify the test data based on 3 nearest neighbours of the test data.\n",
        "    - We can use measures like `Euclidean Distance` to calculate distances.\n",
        "    - Usually, we take odd numbers as `k`."
      ]
    },
    {
      "cell_type": "code",
      "execution_count": null,
      "metadata": {
        "id": "PBHDif0JXxbk"
      },
      "outputs": [],
      "source": [
        "# Import packages\n",
        "from sklearn import datasets\n",
        "from sklearn.model_selection import train_test_split\n",
        "from sklearn.neighbors import KNeighborsClassifier"
      ]
    },
    {
      "cell_type": "code",
      "execution_count": 10,
      "metadata": {
        "id": "l6IimujgXoh9"
      },
      "outputs": [],
      "source": [
        "# Obtain the dataset\n",
        "iris = datasets.load_iris()\n",
        "X = iris.data\n",
        "y = iris.target\n",
        "\n",
        "# Data Split\n",
        "# Training: 80%\n",
        "# Testing: 20%\n",
        "X_train, X_test, y_train, y_test = train_test_split(X, y, test_size=0.2, random_state = 0)"
      ]
    },
    {
      "cell_type": "code",
      "execution_count": 13,
      "metadata": {
        "colab": {
          "base_uri": "https://localhost:8080/"
        },
        "id": "3aKcker1Ztu7",
        "outputId": "7fa6cb89-de2a-4c08-d76c-2a200c853ea8"
      },
      "outputs": [
        {
          "name": "stdout",
          "output_type": "stream",
          "text": [
            "Accuracy: 1.0\n",
            "Predictions: \n",
            "[2 1 0 2 0 2 0 1 1 1 2 1 1 1 1 0 1 1 0 0 2 1 0 0 2 0 0 1 1 0]\n"
          ]
        }
      ],
      "source": [
        "# Train a KNN classifier\n",
        "knn = KNeighborsClassifier(n_neighbors = 7).fit(X_train, y_train)\n",
        "\n",
        "# Calculate accuracy\n",
        "accuracy = knn.score(X_test, y_test)\n",
        "print(f\"Accuracy: {accuracy}\")\n",
        "\n",
        "# Predict values\n",
        "knn_predictions = knn.predict(X_test)\n",
        "print(f\"Predictions: \\n{knn_predictions}\")"
      ]
    }
  ],
  "metadata": {
    "colab": {
      "provenance": []
    },
    "kernelspec": {
      "display_name": "college-1",
      "language": "python",
      "name": "python3"
    },
    "language_info": {
      "codemirror_mode": {
        "name": "ipython",
        "version": 3
      },
      "file_extension": ".py",
      "mimetype": "text/x-python",
      "name": "python",
      "nbconvert_exporter": "python",
      "pygments_lexer": "ipython3",
      "version": "3.11.5"
    }
  },
  "nbformat": 4,
  "nbformat_minor": 0
}

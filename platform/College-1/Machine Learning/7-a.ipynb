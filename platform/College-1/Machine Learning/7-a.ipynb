{
  "cells": [
    {
      "cell_type": "markdown",
      "source": [
        "### Algorithm: K Nearest Neighbours\n",
        "- KNN doesn't require training, it can directly classify the test data.\n",
        "- We use [Iris dataset](https://en.wikipedia.org/wiki/Iris_flower_data_set) for this model.\n",
        "- If $K=3$, we classify the test data based on 3 nearest neighbours of the test data.\n",
        "    - We can use measures like `Euclidean Distance` to calculate distances.\n",
        "    - Usually, we take odd numbers as `k`."
      ],
      "metadata": {
        "id": "CTBc413sRK5b"
      }
    },
    {
      "cell_type": "code",
      "source": [
        "from sklearn import datasets\n",
        "from sklearn.model_selection import train_test_split\n",
        "from sklearn.neighbors import KNeighborsClassifier"
      ],
      "metadata": {
        "id": "PBHDif0JXxbk"
      },
      "execution_count": 2,
      "outputs": []
    },
    {
      "cell_type": "code",
      "source": [
        "# Model: KNN\n",
        "# Load the dataset\n",
        "iris = datasets.load_iris()\n",
        "X = iris.data\n",
        "y = iris.target\n",
        "\n",
        "# Divide X, y into train and test data\n",
        "X_train, X_test, y_train, y_test = train_test_split(X, y, random_state = 0)"
      ],
      "metadata": {
        "id": "l6IimujgXoh9"
      },
      "execution_count": 3,
      "outputs": []
    },
    {
      "cell_type": "code",
      "source": [
        "# Train a KNN classifier\n",
        "knn = KNeighborsClassifier(n_neighbors = 7).fit(X_train, y_train)\n",
        "\n",
        "# Calculate accuracy\n",
        "accuracy = knn.score(X_test, y_test)\n",
        "print(accuracy)\n",
        "\n",
        "# Predict values\n",
        "knn_predictions = knn.predict(X_test)"
      ],
      "metadata": {
        "id": "3aKcker1Ztu7",
        "outputId": "7fa6cb89-de2a-4c08-d76c-2a200c853ea8",
        "colab": {
          "base_uri": "https://localhost:8080/"
        }
      },
      "execution_count": 4,
      "outputs": [
        {
          "output_type": "stream",
          "name": "stdout",
          "text": [
            "0.9736842105263158\n"
          ]
        }
      ]
    }
  ],
  "metadata": {
    "colab": {
      "provenance": []
    },
    "kernelspec": {
      "display_name": "Python 3",
      "name": "python3"
    },
    "language_info": {
      "codemirror_mode": {
        "name": "ipython",
        "version": 3
      },
      "file_extension": ".py",
      "mimetype": "text/x-python",
      "name": "python",
      "nbconvert_exporter": "python",
      "pygments_lexer": "ipython3",
      "version": "3.9.21"
    }
  },
  "nbformat": 4,
  "nbformat_minor": 0
}
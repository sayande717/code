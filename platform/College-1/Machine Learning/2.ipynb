{
  "cells": [
    {
      "cell_type": "markdown",
      "metadata": {},
      "source": [
        "## **Assignment:** Simple Linear Regression"
      ]
    },
    {
      "cell_type": "code",
      "execution_count": 2,
      "metadata": {},
      "outputs": [
        {
          "data": {
            "image/png": "[encoded data removed]",
            "text/plain": [
              "<Figure size 640x480 with 1 Axes>"
            ]
          },
          "metadata": {},
          "output_type": "display_data"
        }
      ],
      "source": [
        "# Problem: Linear Regression\n",
        "import numpy as np\n",
        "import matplotlib.pyplot as plt\n",
        "\n",
        "iter=1000  # Iterations\n",
        "alpha=0.01 # Learning rate\n",
        "# X: Dataset (matrix) with features\n",
        "# y: Output\n",
        "def predict(X,m,c):\n",
        "    return m*X+c\n",
        "\n",
        "def fit(X,y,iter,alpha):\n",
        "    m=0\n",
        "    c=0\n",
        "    n=len(X)\n",
        "    for i in range(iter):\n",
        "        pred_y=predict(X,m,c)\n",
        "        do_m=-(2/n)*np.sum((y-pred_y)*X)\n",
        "        d_c=-(2/n)*np.sum((y-pred_y))\n",
        "        m=m-alpha*do_m\n",
        "        c=c-alpha*d_c\n",
        "        return m,c\n",
        "\n",
        "if __name__ == \"__main__\":\n",
        "    X = np.array([1,2,3,4,5,6,7,8,9])\n",
        "    y = np.array([40,43,55,60,68,77,82,86,94])\n",
        "    plt.scatter(X,y)\n",
        "    m,c = fit(X,y,iter,alpha) # Training\n",
        "    new_y = predict(X,m,c) # Testing\n",
        "    plt.scatter(X,new_y,color=\"black\")\n",
        "    plt.show()"
      ]
    },
    {
      "cell_type": "markdown",
      "metadata": {
        "id": "WFEgf5pMvHtS"
      },
      "source": [
        "# Notes\n",
        "### Model: Linear Regression\n",
        "- Only applicable for datasets with a single input feature.\n",
        "- If we can fit the data in the dataset into a straight line, we can use Linear Regression.\n",
        "- The objective is to find the straight line that best fits the data.\n",
        "- Equation of straight line: `Y = MX + C`. We need to find the correct values of `M` and `C`.\n",
        "- Calculate the slope using $\\text {slope} = \\frac {y_2-y_1}{x_2-x_1}$.\n",
        "- How to find the line? Find the one with the `Least Mean Square Error` for all data points, that's the line with the best fit.\n",
        "- For minimizing the MSE, we use the `Gradient Descent Method`.\n",
        "- For maximizing the MSE, we use the `Gradient Ascent Method`.\n",
        "- Process:\n",
        "    - For each line we predict, we will calculate the `Mean Squared Error`, which is ${(\\bar y - y)}^2$.\n",
        "    - To find the least MSE, we use the `Gradient Descent Method`.\n",
        "        - We decide whether to increase or decrease the `m` value.\n",
        "        - Initially, $m=7$.\n",
        "        - According to the graph, we're past the MSE. So, we decrease the value (let in steps of 3).\n",
        "        - Next, $m=4$, which has the least MSE.\n",
        "\n",
        "### `Gradient Descent Method`\n",
        "- `Gradient`: Slope\n",
        "- It is a first order optimizer, and we take steps proportional to the negative of the gradient of the function.\n",
        "- The objective of this method is find the optimal `m` value.\n",
        "- $m_{new}=m_{old} - \\alpha * (\\delta *m_{old})$\n",
        "- Find the slope, $\\text{slope} = \\frac {y_2-y_1}{x_2-x_1}$. Assume the slope is negative, $-2$, in this case.\n",
        "- Next, find $m_{new}$. $m=m+2\\alpha$.\n",
        "- $\\delta MSE= \\frac{-2}{n} \\sum_{i=1}^{n}(y_i-\\bar y_i)x_i$\n",
        "- $\\delta c = \\frac{-2}{n} \\sum_{i=1}^{n}(y_i-\\bar y_i)$\n",
        "- Update m & c:\n",
        "    - $m = m - \\alpha * \\delta m$\n",
        "    - $c = c - \\alpha * \\delta c$\n",
        "\n",
        "### Convex Optimisation Problem\n",
        "- `Convex Function`: A mathematical function that satisfies the particular property of convexity. Ex: Exponential, quadratic, linear functions.\n",
        "- `Convexity`: If any 2 points on the graph of the function & the line segment connecting them lies entirely above the function's curve, then it satisfies this property.\n",
        "- `Proper Convex`: A function is said to be Proper Convex if:\n",
        "    - The function is Convex\n",
        "    - If for 2 points $x_1$ and $x_2$, The following inequality holds: $f(tx_1 - (1-t)x_2 \\leq tf(x_1)+(1-t)f(x_2))$.\n",
        "- If the function has no finite value of $-\\infty$, ie there does not exist any x in the domain $f(x)=-\\infty$.\n",
        "- If the 2nd order derivative is always +ve (or non-negative) over an interval, then the function is convex over that interval.\n",
        "- `Convex Optimisation Problems` are a special class of optimisation problems which can be solved easily and quickly, if we can frame a problem into a convex optimisation problem. Also, there are many algorithms available to solve them.\n",
        "\n",
        "### Taylor Series\n",
        "- The loss before updating the `m` value should be more than the loss after updating it, so the RHS of the expression should be -ve.\n",
        "- Let $\\beta$ be the angle between $\\delta m$ & $\\text{do}\\ L(M)$\n",
        "- If $\\beta=180°$, it means that the 2 vectors are in the opposite directions, ie the updates should be in the direction opposite to the gradient."
      ]
    }
  ],
  "metadata": {
    "colab": {
      "provenance": []
    },
    "kernelspec": {
      "display_name": "college-1",
      "language": "python",
      "name": "python3"
    },
    "language_info": {
      "codemirror_mode": {
        "name": "ipython",
        "version": 3
      },
      "file_extension": ".py",
      "mimetype": "text/x-python",
      "name": "python",
      "nbconvert_exporter": "python",
      "pygments_lexer": "ipython3",
      "version": "3.9.21"
    }
  },
  "nbformat": 4,
  "nbformat_minor": 0
}

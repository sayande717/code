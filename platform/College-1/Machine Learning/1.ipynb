{
  "cells": [
    {
      "cell_type": "markdown",
      "metadata": {
        "id": "kiMucQbHsuQN"
      },
      "source": [
        "## **Assignment**: Data Preprocessing & Logistic Regression (dataset: Product_Discount.csv)"
      ]
    },
    {
      "cell_type": "code",
      "execution_count": 24,
      "metadata": {
        "colab": {
          "base_uri": "https://localhost:8080/"
        },
        "id": "WQ6zPoT7FfAu",
        "outputId": "8f29db7d-77a4-4943-8eb3-c0b888dba762"
      },
      "outputs": [],
      "source": [
        "import numpy as np\n",
        "import pandas as pd\n",
        "import matplotlib.pyplot as plt\n",
        "from sklearn.preprocessing import MinMaxScaler\n",
        "from sklearn.linear_model import LogisticRegression\n",
        "from sklearn.metrics import accuracy_score"
      ]
    },
    {
      "cell_type": "code",
      "execution_count": 25,
      "metadata": {
        "colab": {
          "base_uri": "https://localhost:8080/",
          "height": 509
        },
        "id": "7RH8h_gdGtrN",
        "outputId": "76f1b7e8-20d5-4cb7-a18b-47b803538147"
      },
      "outputs": [
        {
          "name": "stdout",
          "output_type": "stream",
          "text": [
            "  ProductCategory       Price  Quantity         PurchaseDate  Discount\n",
            "0           Books   25.244412       6.0           23/06/2022     False\n",
            "1     Electronics  109.657164       3.0           30/10/2021     False\n",
            "2           Books   87.975397       7.0  2020-09-07 00:00:00     False\n",
            "3           Books  196.651937       NaN  2021-08-12 00:00:00     False\n",
            "4     Electronics   31.287391       9.0           24/11/2022     False\n",
            "<class 'pandas.core.frame.DataFrame'>\n",
            "RangeIndex: 1000 entries, 0 to 999\n",
            "Data columns (total 5 columns):\n",
            " #   Column           Non-Null Count  Dtype  \n",
            "---  ------           --------------  -----  \n",
            " 0   ProductCategory  1000 non-null   object \n",
            " 1   Price            950 non-null    float64\n",
            " 2   Quantity         900 non-null    float64\n",
            " 3   PurchaseDate     1000 non-null   object \n",
            " 4   Discount         1000 non-null   bool   \n",
            "dtypes: bool(1), float64(2), object(2)\n",
            "memory usage: 32.4+ KB\n"
          ]
        },
        {
          "data": {
            "text/html": [
              "<div>\n",
              "<style scoped>\n",
              "    .dataframe tbody tr th:only-of-type {\n",
              "        vertical-align: middle;\n",
              "    }\n",
              "\n",
              "    .dataframe tbody tr th {\n",
              "        vertical-align: top;\n",
              "    }\n",
              "\n",
              "    .dataframe thead th {\n",
              "        text-align: right;\n",
              "    }\n",
              "</style>\n",
              "<table border=\"1\" class=\"dataframe\">\n",
              "  <thead>\n",
              "    <tr style=\"text-align: right;\">\n",
              "      <th></th>\n",
              "      <th>Price</th>\n",
              "      <th>Quantity</th>\n",
              "    </tr>\n",
              "  </thead>\n",
              "  <tbody>\n",
              "    <tr>\n",
              "      <th>count</th>\n",
              "      <td>950.000000</td>\n",
              "      <td>900.000000</td>\n",
              "    </tr>\n",
              "    <tr>\n",
              "      <th>mean</th>\n",
              "      <td>110.964319</td>\n",
              "      <td>4.983333</td>\n",
              "    </tr>\n",
              "    <tr>\n",
              "      <th>std</th>\n",
              "      <td>64.812614</td>\n",
              "      <td>2.531394</td>\n",
              "    </tr>\n",
              "    <tr>\n",
              "      <th>min</th>\n",
              "      <td>10.880084</td>\n",
              "      <td>1.000000</td>\n",
              "    </tr>\n",
              "    <tr>\n",
              "      <th>25%</th>\n",
              "      <td>56.108796</td>\n",
              "      <td>3.000000</td>\n",
              "    </tr>\n",
              "    <tr>\n",
              "      <th>50%</th>\n",
              "      <td>111.226986</td>\n",
              "      <td>5.000000</td>\n",
              "    </tr>\n",
              "    <tr>\n",
              "      <th>75%</th>\n",
              "      <td>156.474693</td>\n",
              "      <td>7.000000</td>\n",
              "    </tr>\n",
              "    <tr>\n",
              "      <th>max</th>\n",
              "      <td>398.064973</td>\n",
              "      <td>9.000000</td>\n",
              "    </tr>\n",
              "  </tbody>\n",
              "</table>\n",
              "</div>"
            ],
            "text/plain": [
              "            Price    Quantity\n",
              "count  950.000000  900.000000\n",
              "mean   110.964319    4.983333\n",
              "std     64.812614    2.531394\n",
              "min     10.880084    1.000000\n",
              "25%     56.108796    3.000000\n",
              "50%    111.226986    5.000000\n",
              "75%    156.474693    7.000000\n",
              "max    398.064973    9.000000"
            ]
          },
          "execution_count": 25,
          "metadata": {},
          "output_type": "execute_result"
        }
      ],
      "source": [
        "df = pd.read_csv(\"./datasets/Product_Discount.csv\")\n",
        "print(df.head())\n",
        "\n",
        "df.info()\n",
        "df.describe()"
      ]
    },
    {
      "cell_type": "code",
      "execution_count": 26,
      "metadata": {
        "colab": {
          "base_uri": "https://localhost:8080/",
          "height": 206
        },
        "id": "nKZyukxiHBpK",
        "outputId": "6ad2f478-f6b8-4ad8-9604-6d54b6980bde"
      },
      "outputs": [
        {
          "data": {
            "text/html": [
              "<div>\n",
              "<style scoped>\n",
              "    .dataframe tbody tr th:only-of-type {\n",
              "        vertical-align: middle;\n",
              "    }\n",
              "\n",
              "    .dataframe tbody tr th {\n",
              "        vertical-align: top;\n",
              "    }\n",
              "\n",
              "    .dataframe thead th {\n",
              "        text-align: right;\n",
              "    }\n",
              "</style>\n",
              "<table border=\"1\" class=\"dataframe\">\n",
              "  <thead>\n",
              "    <tr style=\"text-align: right;\">\n",
              "      <th></th>\n",
              "      <th>ProductCategory</th>\n",
              "      <th>Price</th>\n",
              "      <th>Quantity</th>\n",
              "      <th>PurchaseDate</th>\n",
              "      <th>Discount</th>\n",
              "    </tr>\n",
              "  </thead>\n",
              "  <tbody>\n",
              "    <tr>\n",
              "      <th>0</th>\n",
              "      <td>Books</td>\n",
              "      <td>25.244412</td>\n",
              "      <td>6.0</td>\n",
              "      <td>23/06/2022</td>\n",
              "      <td>False</td>\n",
              "    </tr>\n",
              "    <tr>\n",
              "      <th>1</th>\n",
              "      <td>Electronics</td>\n",
              "      <td>109.657164</td>\n",
              "      <td>3.0</td>\n",
              "      <td>30/10/2021</td>\n",
              "      <td>False</td>\n",
              "    </tr>\n",
              "    <tr>\n",
              "      <th>2</th>\n",
              "      <td>Books</td>\n",
              "      <td>87.975397</td>\n",
              "      <td>7.0</td>\n",
              "      <td>2020-09-07 00:00:00</td>\n",
              "      <td>False</td>\n",
              "    </tr>\n",
              "    <tr>\n",
              "      <th>3</th>\n",
              "      <td>Books</td>\n",
              "      <td>196.651937</td>\n",
              "      <td>NaN</td>\n",
              "      <td>2021-08-12 00:00:00</td>\n",
              "      <td>False</td>\n",
              "    </tr>\n",
              "    <tr>\n",
              "      <th>4</th>\n",
              "      <td>Electronics</td>\n",
              "      <td>31.287391</td>\n",
              "      <td>9.0</td>\n",
              "      <td>24/11/2022</td>\n",
              "      <td>False</td>\n",
              "    </tr>\n",
              "  </tbody>\n",
              "</table>\n",
              "</div>"
            ],
            "text/plain": [
              "  ProductCategory       Price  Quantity         PurchaseDate  Discount\n",
              "0           Books   25.244412       6.0           23/06/2022     False\n",
              "1     Electronics  109.657164       3.0           30/10/2021     False\n",
              "2           Books   87.975397       7.0  2020-09-07 00:00:00     False\n",
              "3           Books  196.651937       NaN  2021-08-12 00:00:00     False\n",
              "4     Electronics   31.287391       9.0           24/11/2022     False"
            ]
          },
          "execution_count": 26,
          "metadata": {},
          "output_type": "execute_result"
        }
      ],
      "source": [
        "df.isnull().sum()\n",
        "df.head()"
      ]
    },
    {
      "cell_type": "code",
      "execution_count": 27,
      "metadata": {
        "colab": {
          "base_uri": "https://localhost:8080/",
          "height": 618
        },
        "id": "kUqTwuFaRzXx",
        "outputId": "5aba2280-8995-499f-aa53-7407be8f1186"
      },
      "outputs": [
        {
          "data": {
            "image/png": "[encoded data removed]",
            "text/plain": [
              "<Figure size 608x456 with 2 Axes>"
            ]
          },
          "metadata": {},
          "output_type": "display_data"
        },
        {
          "data": {
            "text/html": [
              "<div>\n",
              "<style scoped>\n",
              "    .dataframe tbody tr th:only-of-type {\n",
              "        vertical-align: middle;\n",
              "    }\n",
              "\n",
              "    .dataframe tbody tr th {\n",
              "        vertical-align: top;\n",
              "    }\n",
              "\n",
              "    .dataframe thead th {\n",
              "        text-align: right;\n",
              "    }\n",
              "</style>\n",
              "<table border=\"1\" class=\"dataframe\">\n",
              "  <thead>\n",
              "    <tr style=\"text-align: right;\">\n",
              "      <th></th>\n",
              "      <th>ProductCategory</th>\n",
              "      <th>Price</th>\n",
              "      <th>Quantity</th>\n",
              "      <th>PurchaseDate</th>\n",
              "      <th>Discount</th>\n",
              "    </tr>\n",
              "  </thead>\n",
              "  <tbody>\n",
              "    <tr>\n",
              "      <th>0</th>\n",
              "      <td>Books</td>\n",
              "      <td>25.244412</td>\n",
              "      <td>6.0</td>\n",
              "      <td>23/06/2022</td>\n",
              "      <td>False</td>\n",
              "    </tr>\n",
              "    <tr>\n",
              "      <th>1</th>\n",
              "      <td>Electronics</td>\n",
              "      <td>109.657164</td>\n",
              "      <td>3.0</td>\n",
              "      <td>30/10/2021</td>\n",
              "      <td>False</td>\n",
              "    </tr>\n",
              "    <tr>\n",
              "      <th>2</th>\n",
              "      <td>Books</td>\n",
              "      <td>87.975397</td>\n",
              "      <td>7.0</td>\n",
              "      <td>2020-09-07 00:00:00</td>\n",
              "      <td>False</td>\n",
              "    </tr>\n",
              "    <tr>\n",
              "      <th>3</th>\n",
              "      <td>Books</td>\n",
              "      <td>196.651937</td>\n",
              "      <td>0.0</td>\n",
              "      <td>2021-08-12 00:00:00</td>\n",
              "      <td>False</td>\n",
              "    </tr>\n",
              "    <tr>\n",
              "      <th>4</th>\n",
              "      <td>Electronics</td>\n",
              "      <td>31.287391</td>\n",
              "      <td>9.0</td>\n",
              "      <td>24/11/2022</td>\n",
              "      <td>False</td>\n",
              "    </tr>\n",
              "  </tbody>\n",
              "</table>\n",
              "</div>"
            ],
            "text/plain": [
              "  ProductCategory       Price  Quantity         PurchaseDate  Discount\n",
              "0           Books   25.244412       6.0           23/06/2022     False\n",
              "1     Electronics  109.657164       3.0           30/10/2021     False\n",
              "2           Books   87.975397       7.0  2020-09-07 00:00:00     False\n",
              "3           Books  196.651937       0.0  2021-08-12 00:00:00     False\n",
              "4     Electronics   31.287391       9.0           24/11/2022     False"
            ]
          },
          "execution_count": 27,
          "metadata": {},
          "output_type": "execute_result"
        }
      ],
      "source": [
        "df['Quantity'] = df['Quantity'].fillna(0)\n",
        "df['Quantity'].isnull().sum()\n",
        "df['Price'] = df['Price'].fillna(0)\n",
        "df['Price'].isnull().sum()\n",
        "fig,(g1,g2) = plt.subplots(1,2,dpi=95)\n",
        "\n",
        "#for col in df.columns:\n",
        "g1.boxplot(df['Price'])\n",
        "g1.set_ylabel('Price')\n",
        "g1.set_title('Price Plot')\n",
        "\n",
        "\n",
        "g2.boxplot(df['Quantity'])\n",
        "g2.set_ylabel('Quantity')\n",
        "plt.show()\n",
        "df.head()"
      ]
    },
    {
      "cell_type": "code",
      "execution_count": 28,
      "metadata": {
        "colab": {
          "base_uri": "https://localhost:8080/",
          "height": 788
        },
        "id": "dFu_JKrSH0-G",
        "outputId": "49af4703-c315-421e-df58-556161c7a6d1"
      },
      "outputs": [
        {
          "data": {
            "image/png": "[encoded data removed]",
            "text/plain": [
              "<Figure size 1000x700 with 1 Axes>"
            ]
          },
          "metadata": {},
          "output_type": "display_data"
        },
        {
          "data": {
            "text/html": [
              "<div>\n",
              "<style scoped>\n",
              "    .dataframe tbody tr th:only-of-type {\n",
              "        vertical-align: middle;\n",
              "    }\n",
              "\n",
              "    .dataframe tbody tr th {\n",
              "        vertical-align: top;\n",
              "    }\n",
              "\n",
              "    .dataframe thead th {\n",
              "        text-align: right;\n",
              "    }\n",
              "</style>\n",
              "<table border=\"1\" class=\"dataframe\">\n",
              "  <thead>\n",
              "    <tr style=\"text-align: right;\">\n",
              "      <th></th>\n",
              "      <th>ProductCategory</th>\n",
              "      <th>Price</th>\n",
              "      <th>Quantity</th>\n",
              "      <th>PurchaseDate</th>\n",
              "      <th>Discount</th>\n",
              "    </tr>\n",
              "  </thead>\n",
              "  <tbody>\n",
              "    <tr>\n",
              "      <th>0</th>\n",
              "      <td>Books</td>\n",
              "      <td>25.244412</td>\n",
              "      <td>6.0</td>\n",
              "      <td>23/06/2022</td>\n",
              "      <td>False</td>\n",
              "    </tr>\n",
              "    <tr>\n",
              "      <th>1</th>\n",
              "      <td>Electronics</td>\n",
              "      <td>109.657164</td>\n",
              "      <td>3.0</td>\n",
              "      <td>30/10/2021</td>\n",
              "      <td>False</td>\n",
              "    </tr>\n",
              "    <tr>\n",
              "      <th>2</th>\n",
              "      <td>Books</td>\n",
              "      <td>87.975397</td>\n",
              "      <td>7.0</td>\n",
              "      <td>2020-09-07 00:00:00</td>\n",
              "      <td>False</td>\n",
              "    </tr>\n",
              "    <tr>\n",
              "      <th>3</th>\n",
              "      <td>Books</td>\n",
              "      <td>196.651937</td>\n",
              "      <td>0.0</td>\n",
              "      <td>2021-08-12 00:00:00</td>\n",
              "      <td>False</td>\n",
              "    </tr>\n",
              "    <tr>\n",
              "      <th>4</th>\n",
              "      <td>Electronics</td>\n",
              "      <td>31.287391</td>\n",
              "      <td>9.0</td>\n",
              "      <td>24/11/2022</td>\n",
              "      <td>False</td>\n",
              "    </tr>\n",
              "  </tbody>\n",
              "</table>\n",
              "</div>"
            ],
            "text/plain": [
              "  ProductCategory       Price  Quantity         PurchaseDate  Discount\n",
              "0           Books   25.244412       6.0           23/06/2022     False\n",
              "1     Electronics  109.657164       3.0           30/10/2021     False\n",
              "2           Books   87.975397       7.0  2020-09-07 00:00:00     False\n",
              "3           Books  196.651937       0.0  2021-08-12 00:00:00     False\n",
              "4     Electronics   31.287391       9.0           24/11/2022     False"
            ]
          },
          "execution_count": 28,
          "metadata": {},
          "output_type": "execute_result"
        }
      ],
      "source": [
        "q1, q3 = np.percentile(df['Price'], [25, 75])\n",
        "# Calculate the interquartile range\n",
        "iqr = q3 - q1\n",
        "# Calculate the lower and upper bounds\n",
        "lower = q1 - (1.5 * iqr)\n",
        "upper = q3 + (1.5 * iqr)\n",
        "# Drop the outliers\n",
        "upper_array = np.where(df['Price'] >= upper)[0]\n",
        "lower_array = np.where(df['Price'] <= lower)[0]\n",
        "\n",
        "# Removing the outliers\n",
        "df.drop(index=upper_array, inplace=True)\n",
        "df.drop(index=lower_array, inplace=True)\n",
        "fig = plt.figure(figsize =(10, 7))\n",
        "\n",
        "plt.boxplot(df['Price'])\n",
        "plt.show()\n",
        "\n",
        "df.head()\n",
        "\n",
        "\n",
        "\n"
      ]
    },
    {
      "cell_type": "code",
      "execution_count": null,
      "metadata": {
        "id": "JYY1-JiyLF7_"
      },
      "outputs": [],
      "source": []
    },
    {
      "cell_type": "code",
      "execution_count": 29,
      "metadata": {
        "colab": {
          "base_uri": "https://localhost:8080/",
          "height": 206
        },
        "id": "CsazvQtHIlir",
        "outputId": "cdac1e3f-5dac-4913-8b8e-aa0b06b58a90"
      },
      "outputs": [
        {
          "data": {
            "text/html": [
              "<div>\n",
              "<style scoped>\n",
              "    .dataframe tbody tr th:only-of-type {\n",
              "        vertical-align: middle;\n",
              "    }\n",
              "\n",
              "    .dataframe tbody tr th {\n",
              "        vertical-align: top;\n",
              "    }\n",
              "\n",
              "    .dataframe thead th {\n",
              "        text-align: right;\n",
              "    }\n",
              "</style>\n",
              "<table border=\"1\" class=\"dataframe\">\n",
              "  <thead>\n",
              "    <tr style=\"text-align: right;\">\n",
              "      <th></th>\n",
              "      <th>ProductCategory</th>\n",
              "      <th>Price</th>\n",
              "      <th>Quantity</th>\n",
              "      <th>PurchaseDate</th>\n",
              "      <th>Discount</th>\n",
              "    </tr>\n",
              "  </thead>\n",
              "  <tbody>\n",
              "    <tr>\n",
              "      <th>0</th>\n",
              "      <td>Books</td>\n",
              "      <td>25.244412</td>\n",
              "      <td>6.0</td>\n",
              "      <td>23/06/2022</td>\n",
              "      <td>False</td>\n",
              "    </tr>\n",
              "    <tr>\n",
              "      <th>1</th>\n",
              "      <td>Electronics</td>\n",
              "      <td>109.657164</td>\n",
              "      <td>3.0</td>\n",
              "      <td>30/10/2021</td>\n",
              "      <td>False</td>\n",
              "    </tr>\n",
              "    <tr>\n",
              "      <th>2</th>\n",
              "      <td>Books</td>\n",
              "      <td>87.975397</td>\n",
              "      <td>7.0</td>\n",
              "      <td>2020-09-07 00:00:00</td>\n",
              "      <td>False</td>\n",
              "    </tr>\n",
              "    <tr>\n",
              "      <th>3</th>\n",
              "      <td>Books</td>\n",
              "      <td>196.651937</td>\n",
              "      <td>0.0</td>\n",
              "      <td>2021-08-12 00:00:00</td>\n",
              "      <td>False</td>\n",
              "    </tr>\n",
              "    <tr>\n",
              "      <th>4</th>\n",
              "      <td>Electronics</td>\n",
              "      <td>31.287391</td>\n",
              "      <td>9.0</td>\n",
              "      <td>24/11/2022</td>\n",
              "      <td>False</td>\n",
              "    </tr>\n",
              "  </tbody>\n",
              "</table>\n",
              "</div>"
            ],
            "text/plain": [
              "  ProductCategory       Price  Quantity         PurchaseDate  Discount\n",
              "0           Books   25.244412       6.0           23/06/2022     False\n",
              "1     Electronics  109.657164       3.0           30/10/2021     False\n",
              "2           Books   87.975397       7.0  2020-09-07 00:00:00     False\n",
              "3           Books  196.651937       0.0  2021-08-12 00:00:00     False\n",
              "4     Electronics   31.287391       9.0           24/11/2022     False"
            ]
          },
          "execution_count": 29,
          "metadata": {},
          "output_type": "execute_result"
        }
      ],
      "source": [
        "from sklearn.preprocessing import LabelEncoder\n",
        "from sklearn.preprocessing import OneHotEncoder\n",
        "df.head()\n"
      ]
    },
    {
      "cell_type": "code",
      "execution_count": 30,
      "metadata": {
        "colab": {
          "base_uri": "https://localhost:8080/",
          "height": 224
        },
        "id": "SdpW9q_cLTzd",
        "outputId": "50a3632e-864c-450a-b90e-faa103f9164e"
      },
      "outputs": [
        {
          "name": "stdout",
          "output_type": "stream",
          "text": [
            "['Books', 'Electronics', 'Clothing']\n"
          ]
        },
        {
          "data": {
            "text/html": [
              "<div>\n",
              "<style scoped>\n",
              "    .dataframe tbody tr th:only-of-type {\n",
              "        vertical-align: middle;\n",
              "    }\n",
              "\n",
              "    .dataframe tbody tr th {\n",
              "        vertical-align: top;\n",
              "    }\n",
              "\n",
              "    .dataframe thead th {\n",
              "        text-align: right;\n",
              "    }\n",
              "</style>\n",
              "<table border=\"1\" class=\"dataframe\">\n",
              "  <thead>\n",
              "    <tr style=\"text-align: right;\">\n",
              "      <th></th>\n",
              "      <th>Price</th>\n",
              "      <th>Quantity</th>\n",
              "      <th>PurchaseDate</th>\n",
              "      <th>Discount</th>\n",
              "      <th>ProductCategoryNew</th>\n",
              "      <th>Books</th>\n",
              "      <th>Electronics</th>\n",
              "      <th>Clothing</th>\n",
              "    </tr>\n",
              "  </thead>\n",
              "  <tbody>\n",
              "    <tr>\n",
              "      <th>0</th>\n",
              "      <td>25.244412</td>\n",
              "      <td>6.0</td>\n",
              "      <td>23/06/2022</td>\n",
              "      <td>False</td>\n",
              "      <td>0</td>\n",
              "      <td>1.0</td>\n",
              "      <td>0.0</td>\n",
              "      <td>0.0</td>\n",
              "    </tr>\n",
              "    <tr>\n",
              "      <th>1</th>\n",
              "      <td>109.657164</td>\n",
              "      <td>3.0</td>\n",
              "      <td>30/10/2021</td>\n",
              "      <td>False</td>\n",
              "      <td>2</td>\n",
              "      <td>0.0</td>\n",
              "      <td>0.0</td>\n",
              "      <td>1.0</td>\n",
              "    </tr>\n",
              "    <tr>\n",
              "      <th>2</th>\n",
              "      <td>87.975397</td>\n",
              "      <td>7.0</td>\n",
              "      <td>2020-09-07 00:00:00</td>\n",
              "      <td>False</td>\n",
              "      <td>0</td>\n",
              "      <td>1.0</td>\n",
              "      <td>0.0</td>\n",
              "      <td>0.0</td>\n",
              "    </tr>\n",
              "    <tr>\n",
              "      <th>3</th>\n",
              "      <td>196.651937</td>\n",
              "      <td>0.0</td>\n",
              "      <td>2021-08-12 00:00:00</td>\n",
              "      <td>False</td>\n",
              "      <td>0</td>\n",
              "      <td>1.0</td>\n",
              "      <td>0.0</td>\n",
              "      <td>0.0</td>\n",
              "    </tr>\n",
              "    <tr>\n",
              "      <th>4</th>\n",
              "      <td>31.287391</td>\n",
              "      <td>9.0</td>\n",
              "      <td>24/11/2022</td>\n",
              "      <td>False</td>\n",
              "      <td>2</td>\n",
              "      <td>0.0</td>\n",
              "      <td>0.0</td>\n",
              "      <td>1.0</td>\n",
              "    </tr>\n",
              "  </tbody>\n",
              "</table>\n",
              "</div>"
            ],
            "text/plain": [
              "        Price  Quantity         PurchaseDate  Discount  ProductCategoryNew  \\\n",
              "0   25.244412       6.0           23/06/2022     False                   0   \n",
              "1  109.657164       3.0           30/10/2021     False                   2   \n",
              "2   87.975397       7.0  2020-09-07 00:00:00     False                   0   \n",
              "3  196.651937       0.0  2021-08-12 00:00:00     False                   0   \n",
              "4   31.287391       9.0           24/11/2022     False                   2   \n",
              "\n",
              "   Books  Electronics  Clothing  \n",
              "0    1.0          0.0       0.0  \n",
              "1    0.0          0.0       1.0  \n",
              "2    1.0          0.0       0.0  \n",
              "3    1.0          0.0       0.0  \n",
              "4    0.0          0.0       1.0  "
            ]
          },
          "execution_count": 30,
          "metadata": {},
          "output_type": "execute_result"
        }
      ],
      "source": [
        "df['ProductCategory'] = df['ProductCategory'].astype('category')\n",
        "# Assigning numerical values and storing it in another columns\n",
        "df['ProductCategoryNew'] = df['ProductCategory'].cat.codes\n",
        "col_names=[]\n",
        "col_names+= [i for i in list(df['ProductCategory'].unique())]\n",
        "print(col_names)\n",
        "\n",
        "# Create an instance of One-hot-encoder\n",
        "enc = OneHotEncoder()\n",
        "\n",
        "# Passing encoded columns\n",
        "\n",
        "enc_data = pd.DataFrame(enc.fit_transform(df[['ProductCategoryNew']]).toarray(),columns=col_names)\n",
        "#enc_data.columns = enc.get_feature_names_out(['ProductCategory'])\n",
        "\n",
        "# Merge with main\n",
        "New_df = df.join(enc_data)\n",
        "#finaldf=New_df.rename(columns = {'PP':'Price','ProductCategoryNew 0':'C1', '1':'C2', '3':'C3'})\n",
        "\n",
        "\n",
        "New_df.drop(\"ProductCategory\", axis=1, inplace=True)\n",
        "New_df.head()\n",
        "#finaldf.describe()\n"
      ]
    },
    {
      "cell_type": "code",
      "execution_count": 31,
      "metadata": {
        "colab": {
          "base_uri": "https://localhost:8080/",
          "height": 567
        },
        "id": "uoayAVS-V_df",
        "outputId": "a0671774-b7d8-4b8b-aee5-27b0ad916963"
      },
      "outputs": [
        {
          "name": "stdout",
          "output_type": "stream",
          "text": [
            "          Price  Quantity  Discount  ProductCategoryNew  Books  Electronics  \\\n",
            "0     25.244412       6.0     False                   0    1.0          0.0   \n",
            "1    109.657164       3.0     False                   2    0.0          0.0   \n",
            "2     87.975397       7.0     False                   0    1.0          0.0   \n",
            "3    196.651937       0.0     False                   0    1.0          0.0   \n",
            "4     31.287391       9.0     False                   2    0.0          0.0   \n",
            "..          ...       ...       ...                 ...    ...          ...   \n",
            "995  186.813091       9.0     False                   1    NaN          NaN   \n",
            "996   32.109616       5.0     False                   1    NaN          NaN   \n",
            "997  165.315445       1.0     False                   0    NaN          NaN   \n",
            "998  164.636852       5.0      True                   0    NaN          NaN   \n",
            "999  176.815121       8.0     False                   2    NaN          NaN   \n",
            "\n",
            "     Clothing  \n",
            "0         0.0  \n",
            "1         1.0  \n",
            "2         0.0  \n",
            "3         0.0  \n",
            "4         1.0  \n",
            "..        ...  \n",
            "995       NaN  \n",
            "996       NaN  \n",
            "997       NaN  \n",
            "998       NaN  \n",
            "999       NaN  \n",
            "\n",
            "[984 rows x 7 columns]\n"
          ]
        }
      ],
      "source": [
        "# New_df.drop(\"ProductCategoryNew\", axis=1, inplace=True)\n",
        "New_df.head()\n",
        "New_df.drop(\"PurchaseDate\", axis=1, inplace=True)\n",
        "\n",
        "print(New_df)\n",
        "New_df=New_df.dropna()"
      ]
    },
    {
      "cell_type": "markdown",
      "metadata": {
        "id": "vZ4By4Ho9cLn"
      },
      "source": [
        "Dropping:\n",
        "- Discount: because it provides the output\n",
        "- Product Category: Based on this, 3 new classes are being generated."
      ]
    },
    {
      "cell_type": "code",
      "execution_count": 32,
      "metadata": {
        "id": "hJViDIpJtuXa"
      },
      "outputs": [
        {
          "name": "stdout",
          "output_type": "stream",
          "text": [
            "0      0\n",
            "1      0\n",
            "2      0\n",
            "3      0\n",
            "4      0\n",
            "      ..\n",
            "979    0\n",
            "980    0\n",
            "981    1\n",
            "982    0\n",
            "983    0\n",
            "Name: Discount, Length: 968, dtype: int64\n"
          ]
        }
      ],
      "source": [
        "X=New_df.drop(['Discount','ProductCategoryNew'],axis=1)\n",
        "l1 = LabelEncoder() # Constructor of class LabelEncoder()\n",
        "#l1.fit(df['ProductCategory'])\n",
        "New_df.Discount = l1.fit_transform(New_df.Discount) # Transforming output to 0/1 etc\n",
        "y=New_df['Discount'] # Output\n",
        "print(y)\n"
      ]
    },
    {
      "cell_type": "code",
      "execution_count": 33,
      "metadata": {
        "id": "DiGjql4ZI59X"
      },
      "outputs": [
        {
          "name": "stdout",
          "output_type": "stream",
          "text": [
            "            0         1    2    3    4\n",
            "0    0.084547  0.666667  1.0  0.0  0.0\n",
            "1    0.367259  0.333333  0.0  0.0  1.0\n",
            "2    0.294643  0.777778  1.0  0.0  0.0\n",
            "3    0.658617  0.000000  1.0  0.0  0.0\n",
            "4    0.104786  1.000000  0.0  0.0  1.0\n",
            "..        ...       ...  ...  ...  ...\n",
            "963  0.226384  1.000000  0.0  1.0  0.0\n",
            "964  0.200920  0.888889  0.0  1.0  0.0\n",
            "965  0.262660  0.333333  1.0  0.0  0.0\n",
            "966  0.089262  0.888889  1.0  0.0  0.0\n",
            "967  0.629714  1.000000  0.0  0.0  1.0\n",
            "\n",
            "[968 rows x 5 columns]\n"
          ]
        }
      ],
      "source": [
        "scaler = MinMaxScaler(feature_range=(0, 1))\n",
        "\n",
        "# learning the statistical parameters for each of the data and transforming\n",
        "rescaledX = scaler.fit_transform(X)\n",
        "rescaledX[:5]\n",
        "finaldf=pd.DataFrame(rescaledX)\n",
        "print(finaldf)"
      ]
    },
    {
      "cell_type": "markdown",
      "metadata": {
        "id": "-lgoOSdE_lRd"
      },
      "source": [
        "# Logistic Regression\n",
        "- Uses sigmoid activation function: $\\sigma(x)=\\frac{1}{1+e^{-x}}$\n",
        "- Accuracy = ($\\frac{TP+TN}{TP+FP+TN+FN}$)"
      ]
    },
    {
      "cell_type": "code",
      "execution_count": 34,
      "metadata": {
        "id": "xIUzffGMPiyi"
      },
      "outputs": [
        {
          "name": "stdout",
          "output_type": "stream",
          "text": [
            "[0 0 0 0 0 0 0 0 0 0 0 0 0 0 0 0 0 0 0 0 0 0 0 0 0 0 0 0 0 0 0 0 0 0 0 0 0\n",
            " 0 0 0 0 0 0 0 0 0 0 0 0 0 0 0 0 0 0 0 0 0 0 0 0 0 0 0 0 0 0 0 0 0 0 0 0 0\n",
            " 0 0 0 0 0 0 0 0 0 0 0 0 0 0 0 0 0 0 0 0 0 0 0 0 0 0 0 0 0 0 0 0 0 0 0 0 0\n",
            " 0 0 0 0 0 0 0 0 0 0 0 0 0 0 0 0 0 0 0 0 0 0 0 0 0 0 0 0 0 0 0 0 0 0 0 0 0\n",
            " 0 0 0 0 0 0 0 0 0 0 0 0 0 0 0 0 0 0 0 0 0 0 0 0 0 0 0 0 0 0 0 0 0 0 0 0 0\n",
            " 0 0 0 0 0 0 0 0 0]\n",
            "Accuracy: 0.7731958762886598\n"
          ]
        }
      ],
      "source": [
        "cls=LogisticRegression(solver='lbfgs', max_iter=400)\n",
        "from sklearn.model_selection import train_test_split\n",
        "\n",
        "X_train, X_test, y_train, y_test = train_test_split(finaldf, y, test_size=0.2, random_state=42)\n",
        "cls.fit(X_train,y_train)    # Training, find out the correct weight and bias\n",
        "y_pred=cls.predict(X_test)  # Testing, predict y for input x\n",
        "print(y_pred)\n",
        "score = accuracy_score(y_test,y_pred)\n",
        "print(f'Accuracy: {score}')"
      ]
    }
  ],
  "metadata": {
    "colab": {
      "provenance": []
    },
    "kernelspec": {
      "display_name": "college-1",
      "language": "python",
      "name": "python3"
    },
    "language_info": {
      "codemirror_mode": {
        "name": "ipython",
        "version": 3
      },
      "file_extension": ".py",
      "mimetype": "text/x-python",
      "name": "python",
      "nbconvert_exporter": "python",
      "pygments_lexer": "ipython3",
      "version": "3.9.21"
    }
  },
  "nbformat": 4,
  "nbformat_minor": 0
}

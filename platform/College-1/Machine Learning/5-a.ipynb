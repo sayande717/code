{
  "cells": [
    {
      "cell_type": "markdown",
      "metadata": {},
      "source": [
        "## **Assignment:** Multi-Layer Perceptron using training (4 inputs) and test (2 outputs) data, MLP with 4 inputs, predicting 2 outputs."
      ]
    },
    {
      "cell_type": "code",
      "execution_count": 40,
      "metadata": {
        "colab": {
          "base_uri": "https://localhost:8080/"
        },
        "id": "5WImIYssMadR",
        "outputId": "08cae6b2-030c-4440-aea0-2d22d46c165b"
      },
      "outputs": [],
      "source": [
        "# Import\n",
        "import pandas as pd\n",
        "from sklearn.model_selection import train_test_split\n",
        "from sklearn.preprocessing import StandardScaler\n",
        "from keras.models import Sequential\n",
        "from keras.layers import Dense"
      ]
    },
    {
      "cell_type": "code",
      "execution_count": 41,
      "metadata": {
        "colab": {
          "base_uri": "https://localhost:8080/"
        },
        "id": "mtE3gwL0M02N",
        "outputId": "cf9d7500-0728-437a-c6ca-84198fac35a2"
      },
      "outputs": [
        {
          "name": "stdout",
          "output_type": "stream",
          "text": [
            "<class 'pandas.core.frame.DataFrame'>\n",
            "RangeIndex: 1000 entries, 0 to 999\n",
            "Data columns (total 7 columns):\n",
            " #   Column       Non-Null Count  Dtype  \n",
            "---  ------       --------------  -----  \n",
            " 0   A (mm)       1000 non-null   float64\n",
            " 1   B (mm)       1000 non-null   float64\n",
            " 2   C (mm3/s)    1000 non-null   float64\n",
            " 3   D (degrees)  1000 non-null   float64\n",
            " 4   y1 (?m)      1000 non-null   float64\n",
            " 5   y2 (m.sec)   1000 non-null   float64\n",
            " 6   Unnamed: 6   0 non-null      float64\n",
            "dtypes: float64(7)\n",
            "memory usage: 54.8 KB\n"
          ]
        }
      ],
      "source": [
        "# Getting dataset\n",
        "train_data = pd.read_csv('./datasets/5_Training.csv')\n",
        "test_data = pd.read_excel('./datasets/5_Test.xlsx')\n",
        "train_data.info()\n",
        "# train_data.head()"
      ]
    },
    {
      "cell_type": "markdown",
      "metadata": {
        "id": "5b9GlqquDR2n"
      },
      "source": [
        "##### Data Preprocessing\n",
        "Steps:\n",
        "1. Drop unneeded columns.\n",
        "2. Rename the input columns to x1,x2,x3,x4.\n",
        "3. Rename the output columns to y1,y2.\n",
        "4. Split the training & test data into inputs and outputs.\n",
        "    - train_data -> train_input, train_output\n",
        "    - test_data -> test_input, test_output\n",
        "##### New Things\n",
        "- `StandardScaler()` & `fit_transform()`:\n",
        "    - `fit`: Calculate the mean and standard deviation for each feature in the training data.\n",
        "    - `transform`: Use these calculated statistics to standardize the data. Each feature is centred around 0 and scaled to have a standard deviation of one.\n",
        "- `train_test_split()`:\n",
        "    - `test_size=0.2`: 20% of the dataset will be used for testing / validating the model.\n",
        "    - `random_state=42`: Controls the randomness of the data splitting process. Setting a specific value ensures that this result is reproducible in the future. If set to `None`, it uses the current system time or another source of true randomness, but you lose the reproducibility of the process."
      ]
    },
    {
      "cell_type": "code",
      "execution_count": 42,
      "metadata": {
        "id": "zy1dVj71DR2o"
      },
      "outputs": [],
      "source": [
        "# Training data\n",
        "train_data.drop(columns=['Unnamed: 6'],inplace=True)\n",
        "train_data.rename(columns={'A (mm)':'x1',\n",
        "                           'B (mm)':'x2',\n",
        "                           'C (mm3/s)':'x3',\n",
        "                           'D (degrees)':'x4',\n",
        "                           'y1 (?m)':'y1',\n",
        "                           'y2 (m.sec)':'y2'},\n",
        "                  inplace=True)\n",
        "\n",
        "x = train_data[['x1','x2','x3','x4']]\n",
        "x_scaler = StandardScaler()\n",
        "x_scaled = x_scaler.fit_transform(x)\n",
        "y = train_data[['y1','y2']]\n",
        "y_scaler = StandardScaler()\n",
        "y_scaled = y_scaler.fit_transform(y)\n",
        "\n",
        "test_data.rename(columns={'A (mm)':'x1',\n",
        "                           'B (mm)':'x2',\n",
        "                           'C (mm3/s)':'x3',\n",
        "                           'D (degrees)':'x4',\n",
        "                           'y1 (μm)':'y1',\n",
        "                           'y2 (m.sec)':'y2'},\n",
        "                 inplace=True)\n",
        "\n",
        "x_test = train_data[['x1','x2','x3','x4']]\n",
        "y_test = train_data[['y1','y2']]\n",
        "x_test_scaled = x_scaler.fit_transform(x_test)\n",
        "y_test_scaled = y_scaler.fit_transform(y_test)\n",
        "x_train,x_val,y_train,y_val = train_test_split(x_scaled,y_scaled,test_size=0.2,random_state=42)"
      ]
    },
    {
      "cell_type": "code",
      "execution_count": 43,
      "metadata": {
        "colab": {
          "base_uri": "https://localhost:8080/"
        },
        "id": "q4HVRmZ9NuLp",
        "outputId": "a74a72dd-08b1-4ce9-caa6-025c7d8d74b6"
      },
      "outputs": [
        {
          "data": {
            "text/plain": [
              "<tensorflow.python.keras.callbacks.History at 0x7f7faeeaa070>"
            ]
          },
          "execution_count": 43,
          "metadata": {},
          "output_type": "execute_result"
        }
      ],
      "source": [
        "# Build the model\n",
        "model = Sequential()\n",
        "model.add(Dense(4,input_dim=4,activation='sigmoid',name='Input')) # Input Layer\n",
        "model.add(Dense(4,activation='sigmoid',name='Hidden1')) # Hidden Layer\n",
        "model.add(Dense(4,activation='sigmoid',name='Hidden2')) # Hidden Layer\n",
        "model.add(Dense(4,activation='sigmoid',name='Hidden3')) # Hidden Layer\n",
        "model.add(Dense(4,activation='sigmoid',name='Hidden4')) # Hidden Layer\n",
        "model.add(Dense(2,activation='linear',name='Output')) # Output Layer\n",
        "\n",
        "# Compile & Fit\n",
        "model.compile(loss='mean_squared_error',optimizer='adam',metrics=['mean_squared_error'])\n",
        "model.fit(x_train,y_train,epochs=250,verbose=0)"
      ]
    },
    {
      "cell_type": "code",
      "execution_count": null,
      "metadata": {
        "colab": {
          "base_uri": "https://localhost:8080/"
        },
        "id": "7P53Kms4DR2o",
        "outputId": "f99bdedf-52ab-4b4c-8108-28838d98e480"
      },
      "outputs": [
        {
          "name": "stdout",
          "output_type": "stream",
          "text": [
            "32/32 [==============================] - 0s 1ms/step - loss: 0.0041 - mean_squared_error: 0.0041\n",
            "Evaluation:  [0.004118608310818672, 0.004118608310818672]\n"
          ]
        }
      ],
      "source": [
        "# Evaluate the model\n",
        "# x_scaler.inverse_transform(x_test_scaled) to inverse the transform operation.\n",
        "eval = model.evaluate(x_test_scaled,y_test_scaled)\n",
        "print(\"Evaluation: \",eval)"
      ]
    },
    {
      "cell_type": "code",
      "execution_count": 51,
      "metadata": {},
      "outputs": [
        {
          "name": "stdout",
          "output_type": "stream",
          "text": [
            "Predicted values: \n",
            " [[9.9409361e+00 4.6740953e+05]\n",
            " [1.4547093e+01 4.4826647e+05]\n",
            " [1.0644514e+01 4.6448256e+05]\n",
            " [1.1177522e+01 4.6226569e+05]\n",
            " [1.4694247e+01 4.4765572e+05]]\n",
            "\n",
            "Ground Truth: \n",
            "           y1           y2\n",
            "0   9.859034  467401.2104\n",
            "1  14.475502  448411.4769\n",
            "2  10.607495  464842.1834\n",
            "3  11.053403  462351.5094\n",
            "4  14.683481  448091.6552\n"
          ]
        }
      ],
      "source": [
        "# Predict the output\n",
        "pred_y = y_scaler.inverse_transform(model.predict(x_test_scaled))[:5]\n",
        "ground_truth = y_test[:5]\n",
        "\n",
        "print(\"Predicted values: \\n\",pred_y)\n",
        "print()\n",
        "print(\"Ground Truth: \\n\",ground_truth)"
      ]
    }
  ],
  "metadata": {
    "accelerator": "GPU",
    "colab": {
      "gpuType": "T4",
      "provenance": []
    },
    "kernelspec": {
      "display_name": "college-1",
      "language": "python",
      "name": "python3"
    },
    "language_info": {
      "codemirror_mode": {
        "name": "ipython",
        "version": 3
      },
      "file_extension": ".py",
      "mimetype": "text/x-python",
      "name": "python",
      "nbconvert_exporter": "python",
      "pygments_lexer": "ipython3",
      "version": "3.9.21"
    }
  },
  "nbformat": 4,
  "nbformat_minor": 0
}

{
  "cells": [
    {
      "cell_type": "markdown",
      "source": [
        "### Algorithm: Random Forest\n",
        "- $2/3$ of the data is used for training, the rest for testing.\n",
        "- There are m predictors for each tree, where:\n",
        "    - $m = \\sqrt{\\text{total predictors}}$ for Classification.\n",
        "    - $m = \\frac{\\text{total predictors}}{3}$ for Regression.\n",
        "- Out-of-bag error (instead of Test data):\n",
        "    - This the error used in Random Forest.\n",
        "    - Training data for 1 decision tree may be test data for another decision tree. So, we can't\n",
        "    - The error calculated directly from the results of the trained trees is called out-of-bag error."
      ],
      "metadata": {
        "id": "CTBc413sRK5b"
      }
    },
    {
      "cell_type": "code",
      "source": [
        "from sklearn import datasets\n",
        "from sklearn.tree import DecisionTreeClassifier\n",
        "from sklearn.metrics import confusion_matrix\n",
        "from sklearn.model_selection import train_test_split\n",
        "from sklearn.neighbors import KNeighborsClassifier"
      ],
      "metadata": {
        "id": "bg1avBXkUSE-"
      },
      "execution_count": 1,
      "outputs": []
    },
    {
      "cell_type": "code",
      "source": [
        "# Gather the dataset\n",
        "iris = datasets.load_iris()\n",
        "X = iris.data\n",
        "y = iris.target\n",
        "\n",
        "# Dividing X, y into train and test data\n",
        "X_train, X_test, y_train, y_test = train_test_split(X, y, random_state = 0)"
      ],
      "metadata": {
        "id": "qbrpgjfkXK35"
      },
      "execution_count": 2,
      "outputs": []
    },
    {
      "cell_type": "markdown",
      "source": [
        "- DecisionTreeClassifier():\n",
        "    - `max_depth`: Max depth of the tree.\n",
        "    - `min_samples_split`:\n",
        "    - `min_samples_leaf=2`: If the number of leaf nodes is >2, the tree will split again."
      ],
      "metadata": {
        "id": "GQvyMzHDYaaA"
      }
    },
    {
      "cell_type": "code",
      "source": [
        "# Train a DescisionTreeClassifier\n",
        "dtree_model = DecisionTreeClassifier(max_depth = 2).fit(X_train, y_train)\n",
        "dtree_predictions = dtree_model.predict(X_test)\n",
        "\n",
        "# Visualize: Create a confusion matrix\n",
        "cm = confusion_matrix(y_test, dtree_predictions)"
      ],
      "metadata": {
        "id": "eLCiTMbiVlL5"
      },
      "execution_count": 3,
      "outputs": []
    }
  ],
  "metadata": {
    "colab": {
      "provenance": []
    },
    "kernelspec": {
      "display_name": "Python 3",
      "name": "python3"
    },
    "language_info": {
      "codemirror_mode": {
        "name": "ipython",
        "version": 3
      },
      "file_extension": ".py",
      "mimetype": "text/x-python",
      "name": "python",
      "nbconvert_exporter": "python",
      "pygments_lexer": "ipython3",
      "version": "3.9.21"
    }
  },
  "nbformat": 4,
  "nbformat_minor": 0
}
{
  "cells": [
    {
      "cell_type": "markdown",
      "metadata": {
        "id": "vixpe4om4ZvS"
      },
      "source": [
        "# Terms:\n",
        "- **Dropout**: Turn off some nodes to prevent overfitting.\n",
        "- **Overfitting**: Model learns from the training data too well, infact memorizes it instead of generalizing, so it performs poorly on new data. In other words, the model performs very well on training data, but very poorly on fresh new data.\n",
        "- **Underfitting**: Model is too simple to capture the patterns in the data. It will perform poorly on both training and test data."
      ]
    },
    {
      "cell_type": "code",
      "execution_count": 3,
      "metadata": {
        "colab": {
          "base_uri": "https://localhost:8080/"
        },
        "id": "MFzp-LqJLUpG",
        "outputId": "2841cb95-7ada-4aa1-ef53-65f389a6077e"
      },
      "outputs": [
        {
          "name": "stdout",
          "output_type": "stream",
          "text": [
            "Hello, World!\n"
          ]
        }
      ],
      "source": [
        "# LEARNING: Print statement executed\n",
        "print('Hello, World!')\n"
      ]
    },
    {
      "cell_type": "code",
      "execution_count": 4,
      "metadata": {
        "colab": {
          "base_uri": "https://localhost:8080/"
        },
        "id": "ku2JGNhhMiow",
        "outputId": "da2c19a8-22bb-4d04-ad2f-c18d4ed80e9a"
      },
      "outputs": [
        {
          "ename": "ValueError",
          "evalue": "invalid literal for int() with base 10: ''",
          "output_type": "error",
          "traceback": [
            "\u001b[0;31m---------------------------------------------------------------------------\u001b[0m",
            "\u001b[0;31mValueError\u001b[0m                                Traceback (most recent call last)",
            "Cell \u001b[0;32mIn[4], line 2\u001b[0m\n\u001b[1;32m      1\u001b[0m \u001b[38;5;66;03m# LEARNING: Print a pattern\u001b[39;00m\n\u001b[0;32m----> 2\u001b[0m n \u001b[38;5;241m=\u001b[39m \u001b[38;5;28mint\u001b[39m(\u001b[38;5;28minput\u001b[39m())\n\u001b[1;32m      3\u001b[0m \u001b[38;5;28;01mfor\u001b[39;00m times \u001b[38;5;129;01min\u001b[39;00m \u001b[38;5;28mrange\u001b[39m(n,\u001b[38;5;241m0\u001b[39m,\u001b[38;5;241m-\u001b[39m\u001b[38;5;241m1\u001b[39m):\n\u001b[1;32m      4\u001b[0m     \u001b[38;5;28mprint\u001b[39m(\u001b[38;5;124m'\u001b[39m\u001b[38;5;124m*\u001b[39m\u001b[38;5;124m'\u001b[39m \u001b[38;5;241m*\u001b[39m times)\n",
            "\u001b[0;31mValueError\u001b[0m: invalid literal for int() with base 10: ''"
          ]
        }
      ],
      "source": [
        "# LEARNING: Print a pattern\n",
        "n = int(input())\n",
        "for times in range(n,0,-1):\n",
        "    print('*' * times)"
      ]
    },
    {
      "cell_type": "markdown",
      "metadata": {
        "id": "Ct9PKhAoQO9i"
      },
      "source": [
        "`print('str' * times)` prints str n times."
      ]
    },
    {
      "cell_type": "code",
      "execution_count": null,
      "metadata": {
        "colab": {
          "base_uri": "https://localhost:8080/"
        },
        "id": "0yKe6tstQZ9f",
        "outputId": "b7931003-8e25-4c8c-e120-e772aac1880e"
      },
      "outputs": [
        {
          "name": "stdout",
          "output_type": "stream",
          "text": [
            "<class 'str'>\n",
            "<class 'int'>\n",
            "<class 'float'>\n",
            "<class 'float'>\n",
            "<class 'float'>\n"
          ]
        }
      ],
      "source": [
        "# LEARNING: Print data types\n",
        "dataset=('str',6,6.5,11/10,10/11)\n",
        "for data in dataset:\n",
        "    print(type(data))"
      ]
    },
    {
      "cell_type": "code",
      "execution_count": null,
      "metadata": {
        "colab": {
          "base_uri": "https://localhost:8080/"
        },
        "id": "U9B5v1m3SXFG",
        "outputId": "bf731460-126c-4b0a-c7cf-d86de1b27c2f"
      },
      "outputs": [
        {
          "name": "stdout",
          "output_type": "stream",
          "text": [
            "inside for loop\n",
            "inside for loop\n",
            "inside for loop\n",
            "inside for loop\n",
            "inside for loop\n",
            "\n",
            "\n",
            "inside while loop\n",
            "inside while loop\n",
            "inside while loop\n",
            "inside while loop\n",
            "inside while loop\n"
          ]
        }
      ],
      "source": [
        "n = 5\n",
        "\n",
        "for _ in range(n):\n",
        "    print(\"inside for loop\")\n",
        "\n",
        "print('\\n')\n",
        "\n",
        "while n!=0:\n",
        "    print(\"inside while loop\")\n",
        "    n-=1"
      ]
    },
    {
      "cell_type": "code",
      "execution_count": null,
      "metadata": {
        "colab": {
          "base_uri": "https://localhost:8080/"
        },
        "id": "s9lmYzNAXEGK",
        "outputId": "8979d811-395a-4de6-aa1a-c21edf2ef69c"
      },
      "outputs": [
        {
          "name": "stdout",
          "output_type": "stream",
          "text": [
            "('hi', 1)\n"
          ]
        }
      ],
      "source": [
        "# LEARNING: Defining a Tuple\n",
        "tup = ('hi',1,False)    # Tuples can have multiple data types in them.\n",
        "print(tup[:2])          # Range: 0-1"
      ]
    },
    {
      "cell_type": "code",
      "execution_count": null,
      "metadata": {
        "colab": {
          "base_uri": "https://localhost:8080/"
        },
        "id": "yJ99RtxWTKB-",
        "outputId": "01776b02-8cf6-4785-fbb8-c0c081785932"
      },
      "outputs": [
        {
          "name": "stdout",
          "output_type": "stream",
          "text": [
            "35\n",
            "-15\n",
            "0.4\n",
            "10\n",
            "45\n",
            "12\n",
            "26\n"
          ]
        }
      ],
      "source": [
        "# Exercise 1\n",
        "if __name__ == \"__main__\":\n",
        "    try:\n",
        "        x = 10\n",
        "        y = 25\n",
        "        tasks = (x+y,\n",
        "                x-y,\n",
        "                x/y,\n",
        "                x%y,\n",
        "                # x%%y,\n",
        "                x+y+10,\n",
        "                x+2,\n",
        "                y+1)\n",
        "\n",
        "        for task in tasks:\n",
        "            print(task)\n",
        "    except SyntaxError:\n",
        "        print(\"Error\")"
      ]
    },
    {
      "cell_type": "code",
      "execution_count": null,
      "metadata": {
        "colab": {
          "base_uri": "https://localhost:8080/"
        },
        "id": "WmcgPhAaTYlm",
        "outputId": "63f46ba2-89dc-4274-aeb0-e88a6e344ff4"
      },
      "outputs": [
        {
          "name": "stdout",
          "output_type": "stream",
          "text": [
            "2001\n",
            "2002\n",
            "2009\n",
            "2009\n"
          ]
        }
      ],
      "source": [
        "# Exercise 2\n",
        "crime_years=[2001,2002,2003,2010,2006,2009]\n",
        "crime_count=[1000,2000,3000,4000,5000]\n",
        "\n",
        "print(crime_years[0])\n",
        "print(crime_years[1])\n",
        "print(crime_years[5])\n",
        "# Print value at index (len -1)\n",
        "print(crime_years[-1])"
      ]
    },
    {
      "cell_type": "code",
      "execution_count": null,
      "metadata": {
        "colab": {
          "base_uri": "https://localhost:8080/"
        },
        "id": "_aIfmUETUjjl",
        "outputId": "e3112530-5820-4282-b032-3ae860a1675a"
      },
      "outputs": [
        {
          "name": "stdout",
          "output_type": "stream",
          "text": [
            "[2002]\n",
            "[2001, 2002, 2003]\n",
            "[2001, 2002, 2003]\n",
            "[2010, 2006, 2009]\n",
            "[2001]\n",
            "[2001, 2002, 2003, 2010, 2006, 2009]\n",
            "[2001, 2002, 2003, 2010, 2006, 2009]\n",
            "[2001, 2003, 2006]\n",
            "[2001, 2003, 2006]\n",
            "[2001, 2002, 2003, 2010, 2006, 2009]\n"
          ]
        }
      ],
      "source": [
        "# Exercise 3\n",
        "crime_years=[2001, 2002, 2003, 2010, 2006, 2009]\n",
        "print(crime_years[1:2])\n",
        "print(crime_years[0:3])     # Include 0, exclude 3, range: 0-2\n",
        "print(crime_years[:3])\n",
        "print(crime_years[3:])\n",
        "print(crime_years[0:1])\n",
        "print(crime_years[0:])\n",
        "print(crime_years[:])\n",
        "print(crime_years[0:5:2])   # Step count: 2\n",
        "print(crime_years[::2])     # Step count: 2, from beginning to end\n",
        "print(crime_years[::])      # Same as [:]\n",
        "\n"
      ]
    },
    {
      "cell_type": "code",
      "execution_count": null,
      "metadata": {
        "colab": {
          "base_uri": "https://localhost:8080/"
        },
        "id": "EEGOzTq8Wnp-",
        "outputId": "aee67fe6-f6bd-4d2a-a93c-eb8c8bb9db6f"
      },
      "outputs": [
        {
          "name": "stdout",
          "output_type": "stream",
          "text": [
            "[0, 2, 4, 6, 8, 10]\n",
            "[10, 9, 8, 7, 6, 5]\n",
            "[10, 8, 6, 4, 2, 0]\n"
          ]
        }
      ],
      "source": [
        "# Exercise 4\n",
        "x=[0,1,2,3,4,5,6,7,8,9,10]\n",
        "print(x[::2])\n",
        "print(x[-1:-7:-1])\n",
        "print(x[::-2])"
      ]
    },
    {
      "cell_type": "code",
      "execution_count": null,
      "metadata": {
        "id": "f-I6gRCTij_o"
      },
      "outputs": [
        {
          "name": "stdout",
          "output_type": "stream",
          "text": [
            "[1, 4, 9, 16, 25]\n"
          ]
        }
      ],
      "source": [
        "# List Comprehension\n",
        "x=[1,2,3,4,5]\n",
        "y=[i*i for i in x]  # Take each i, square it (i*i)\n",
        "print(y)"
      ]
    },
    {
      "cell_type": "code",
      "execution_count": null,
      "metadata": {
        "id": "WhovZPxqiibH"
      },
      "outputs": [
        {
          "name": "stdout",
          "output_type": "stream",
          "text": [
            "y=[0, 1, 2, 3, 4, 10, 12, 14, 16, 18]\n",
            "y=[5, 6, 7, 8, 9, 0, 1, 2, 3, 4]"
          ]
        }
      ],
      "source": [
        "# Exercise 5\n",
        "x=[i for i in range(10)] # x = [0,1,2,3,4,5,6,7,8,9]\n",
        "y=[]\n",
        "y = [i if i < 5 else i*2 for i in x] # y=x, if i<5, otherwise y=i*2\n",
        "print(f'y={y}')\n",
        "y = [i+5 if i<5 else i-5 for i in x] # y=x+5, if i<5, otherwise y=x-5\n",
        "print(f'y={y}',end='') # DEFAULT: print puts `\\n` at last. end='': don't put `\\n`."
      ]
    },
    {
      "cell_type": "code",
      "execution_count": null,
      "metadata": {},
      "outputs": [
        {
          "name": "stdout",
          "output_type": "stream",
          "text": [
            "one\n",
            "two\n",
            "three\n",
            "four\n",
            "Key doesn't exist!\n"
          ]
        }
      ],
      "source": [
        "# Learning: Dictionaries\n",
        "temp_dict = {1:'one',\n",
        "             2:'two',\n",
        "             3:'three',\n",
        "             4:'four'}\n",
        "for key in temp_dict:\n",
        "    print(temp_dict[key]) # Iterate over all the keys and print their values\n",
        "\n",
        "temp_dict.get(1) # Print the corresponding value\n",
        "# ERROR: Key not found\n",
        "temp_dict.get(5)     # Do nothing\n",
        "try:\n",
        "    temp_dict[5]     # Complain: KeyError\n",
        "except KeyError:\n",
        "    print(\"Key doesn't exist!\")"
      ]
    },
    {
      "cell_type": "code",
      "execution_count": null,
      "metadata": {},
      "outputs": [
        {
          "name": "stdout",
          "output_type": "stream",
          "text": [
            "{1, 3, 4, '2'}\n",
            "\n",
            "{2, 3, 4, 5}\n",
            "set()\n",
            "{12, 13, 14, 15}\n"
          ]
        }
      ],
      "source": [
        "# Learning: Set\n",
        "temp_set1 = {1,2,3,4}\n",
        "temp_set2 = {1,'2',3,3,4} # Sets will eliminate duplicates\n",
        "temp_set3 = {11,12,13,14,15} # Nested Set\n",
        "# Set stores elements in an unordered manner, so can't be printed by index.\n",
        "print(temp_set2,end='\\n\\n')\n",
        "\n",
        "# Functions\n",
        "temp_set1.add(5)\n",
        "temp_set1.remove(1)\n",
        "temp_set2.clear()\n",
        "\n",
        "temp_set3.pop() # Pop from first\n",
        "\n",
        "print(temp_set1)\n",
        "print(temp_set2)\n",
        "print(temp_set3)"
      ]
    }
  ],
  "metadata": {
    "colab": {
      "provenance": []
    },
    "kernelspec": {
      "display_name": "college-1",
      "language": "python",
      "name": "python3"
    },
    "language_info": {
      "codemirror_mode": {
        "name": "ipython",
        "version": 3
      },
      "file_extension": ".py",
      "mimetype": "text/x-python",
      "name": "python",
      "nbconvert_exporter": "python",
      "pygments_lexer": "ipython3",
      "version": "3.11.5"
    }
  },
  "nbformat": 4,
  "nbformat_minor": 0
}

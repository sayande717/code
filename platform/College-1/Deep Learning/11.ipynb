{
 "cells": [
  {
   "cell_type": "markdown",
   "metadata": {
    "id": "_MqTXWnXqBv6"
   },
   "source": [
    "# Models:\n",
    "1. RNN with Attention Layer (Fibonacci Sequence)\n",
    "2. RNN with Attention Layer (Lucas Sequence)"
   ]
  },
  {
   "cell_type": "code",
   "execution_count": 1,
   "metadata": {
    "executionInfo": {
     "elapsed": 8732,
     "status": "ok",
     "timestamp": 1742830396390,
     "user": {
      "displayName": "Sayan De 24MAI0015",
      "userId": "00002623097130699787"
     },
     "user_tz": -330
    },
    "id": "1t7OEhCG63fi"
   },
   "outputs": [],
   "source": [
    "import numpy as np\n",
    "from keras import Model\n",
    "from keras.layers import Layer\n",
    "from keras.layers import Input, Dense, SimpleRNN\n",
    "import tensorflow as tf                                # Tensorflow META Package: tf\n",
    "import tensorflow.keras.activations as tfa             # Tensorflow -> Keras -> Activations = tfa\n",
    "from sklearn.preprocessing import MinMaxScaler\n",
    "from keras.models import Sequential\n",
    "from keras.metrics import mean_squared_error"
   ]
  },
  {
   "cell_type": "code",
   "execution_count": 2,
   "metadata": {
    "colab": {
     "base_uri": "https://localhost:8080/"
    },
    "executionInfo": {
     "elapsed": 267,
     "status": "ok",
     "timestamp": 1742830396681,
     "user": {
      "displayName": "Sayan De 24MAI0015",
      "userId": "00002623097130699787"
     },
     "user_tz": -330
    },
    "id": "ZgGVhZ816-bo",
    "outputId": "b829ac3d-72f0-4649-c85e-79b55cae71cb"
   },
   "outputs": [
    {
     "name": "stdout",
     "output_type": "stream",
     "text": [
      "[ 1.  2.  3.  5.  8. 13. 21. 34. 55. 89.]\n"
     ]
    }
   ],
   "source": [
    "# Prepare the dataset\n",
    "# Generate the Fibonacci Sequence\n",
    "def get_fib_seq(n, scale_data=True):\n",
    "    # Get the Fibonacci sequence\n",
    "    seq = np.zeros(n)\n",
    "    fib_n1 = 0.0\n",
    "    fib_n = 1.0\n",
    "    for i in range(n):\n",
    "        seq[i] = fib_n1 + fib_n\n",
    "        fib_n1 = fib_n\n",
    "        fib_n = seq[i]\n",
    "    scaler = []\n",
    "    if scale_data:\n",
    "        scaler = MinMaxScaler(feature_range=(0, 1))\n",
    "        seq = np.reshape(seq, (n, 1))\n",
    "        seq = scaler.fit_transform(seq).flatten()\n",
    "    return seq, scaler\n",
    "\n",
    "fib_seq = get_fib_seq(10, False)[0]\n",
    "print(fib_seq)"
   ]
  },
  {
   "cell_type": "code",
   "execution_count": 3,
   "metadata": {
    "colab": {
     "base_uri": "https://localhost:8080/"
    },
    "executionInfo": {
     "elapsed": 152,
     "status": "ok",
     "timestamp": 1742830396683,
     "user": {
      "displayName": "Sayan De 24MAI0015",
      "userId": "00002623097130699787"
     },
     "user_tz": -330
    },
    "id": "3S708qBf7UCx",
    "outputId": "f7919549-e325-497f-e1ec-ac89130d588f"
   },
   "outputs": [
    {
     "name": "stdout",
     "output_type": "stream",
     "text": [
      "trainX =  [[[ 8.]\n",
      "  [13.]\n",
      "  [21.]]\n",
      "\n",
      " [[ 5.]\n",
      "  [ 8.]\n",
      "  [13.]]\n",
      "\n",
      " [[ 2.]\n",
      "  [ 3.]\n",
      "  [ 5.]]\n",
      "\n",
      " [[13.]\n",
      "  [21.]\n",
      "  [34.]]\n",
      "\n",
      " [[21.]\n",
      "  [34.]\n",
      "  [55.]]\n",
      "\n",
      " [[34.]\n",
      "  [55.]\n",
      "  [89.]]]\n",
      "trainY =  [ 34.  21.   8.  55.  89. 144.]\n"
     ]
    }
   ],
   "source": [
    "# Get Compile Training Examples and Target values\n",
    "def get_fib_XY(total_fib_numbers, time_steps, train_percent, scale_data=True):\n",
    "    dat, scaler = get_fib_seq(total_fib_numbers, scale_data)\n",
    "    Y_ind = np.arange(time_steps, len(dat), 1)\n",
    "    Y = dat[Y_ind]\n",
    "    rows_x = len(Y)\n",
    "    X = dat[0:rows_x]\n",
    "    for i in range(time_steps-1):\n",
    "        temp = dat[i+1:rows_x+i+1]\n",
    "        X = np.column_stack((X, temp))\n",
    "    # random permutation with fixed seed\n",
    "    rand = np.random.RandomState(seed=13)\n",
    "    idx = rand.permutation(rows_x)\n",
    "    split = int(train_percent*rows_x)\n",
    "    train_ind = idx[0:split]\n",
    "    test_ind = idx[split:]\n",
    "    trainX = X[train_ind]\n",
    "    trainY = Y[train_ind]\n",
    "    testX = X[test_ind]\n",
    "    testY = Y[test_ind]\n",
    "    trainX = np.reshape(trainX, (len(trainX), time_steps, 1))\n",
    "    testX = np.reshape(testX, (len(testX), time_steps, 1))\n",
    "    return trainX, trainY, testX, testY, scaler\n",
    "\n",
    "trainX1, trainY1, testX1, testY1, scaler = get_fib_XY(12, 3, 0.7, False)\n",
    "print('trainX = ', trainX1)\n",
    "print('trainY = ', trainY1)"
   ]
  },
  {
   "cell_type": "code",
   "execution_count": 4,
   "metadata": {
    "colab": {
     "base_uri": "https://localhost:8080/"
    },
    "collapsed": true,
    "executionInfo": {
     "elapsed": 130890,
     "status": "ok",
     "timestamp": 1742830527565,
     "user": {
      "displayName": "Sayan De 24MAI0015",
      "userId": "00002623097130699787"
     },
     "user_tz": -330
    },
    "id": "vsJSPQYc7p5W",
    "outputId": "e8a6a9c3-9e97-4391-8561-07126e7434b6"
   },
   "outputs": [
    {
     "name": "stdout",
     "output_type": "stream",
     "text": [
      "Epoch 1/30\n"
     ]
    },
    {
     "name": "stderr",
     "output_type": "stream",
     "text": [
      "/usr/local/lib/python3.11/dist-packages/keras/src/layers/rnn/rnn.py:200: UserWarning: Do not pass an `input_shape`/`input_dim` argument to a layer. When using Sequential models, prefer using an `Input(shape)` object as the first layer in the model instead.\n",
      "  super().__init__(**kwargs)\n"
     ]
    },
    {
     "name": "stdout",
     "output_type": "stream",
     "text": [
      "826/826 - 4s - 5ms/step - loss: 0.0038\n",
      "Epoch 2/30\n",
      "826/826 - 4s - 4ms/step - loss: 0.0035\n",
      "Epoch 3/30\n",
      "826/826 - 4s - 4ms/step - loss: 0.0034\n",
      "Epoch 4/30\n",
      "826/826 - 3s - 3ms/step - loss: 0.0032\n",
      "Epoch 5/30\n",
      "826/826 - 3s - 3ms/step - loss: 0.0031\n",
      "Epoch 6/30\n",
      "826/826 - 5s - 6ms/step - loss: 0.0029\n",
      "Epoch 7/30\n",
      "826/826 - 8s - 9ms/step - loss: 0.0028\n",
      "Epoch 8/30\n",
      "826/826 - 4s - 4ms/step - loss: 0.0026\n",
      "Epoch 9/30\n",
      "826/826 - 3s - 3ms/step - loss: 0.0026\n",
      "Epoch 10/30\n",
      "826/826 - 5s - 6ms/step - loss: 0.0025\n",
      "Epoch 11/30\n",
      "826/826 - 3s - 4ms/step - loss: 0.0023\n",
      "Epoch 12/30\n",
      "826/826 - 4s - 5ms/step - loss: 0.0022\n",
      "Epoch 13/30\n",
      "826/826 - 3s - 3ms/step - loss: 0.0021\n",
      "Epoch 14/30\n",
      "826/826 - 6s - 7ms/step - loss: 0.0021\n",
      "Epoch 15/30\n",
      "826/826 - 4s - 5ms/step - loss: 0.0020\n",
      "Epoch 16/30\n",
      "826/826 - 5s - 6ms/step - loss: 0.0019\n",
      "Epoch 17/30\n",
      "826/826 - 5s - 6ms/step - loss: 0.0018\n",
      "Epoch 18/30\n",
      "826/826 - 3s - 3ms/step - loss: 0.0018\n",
      "Epoch 19/30\n",
      "826/826 - 6s - 7ms/step - loss: 0.0017\n",
      "Epoch 20/30\n",
      "826/826 - 3s - 4ms/step - loss: 0.0017\n",
      "Epoch 21/30\n",
      "826/826 - 5s - 6ms/step - loss: 0.0017\n",
      "Epoch 22/30\n",
      "826/826 - 6s - 7ms/step - loss: 0.0016\n",
      "Epoch 23/30\n",
      "826/826 - 3s - 4ms/step - loss: 0.0016\n",
      "Epoch 24/30\n",
      "826/826 - 5s - 6ms/step - loss: 0.0016\n",
      "Epoch 25/30\n",
      "826/826 - 3s - 4ms/step - loss: 0.0016\n",
      "Epoch 26/30\n",
      "826/826 - 5s - 6ms/step - loss: 0.0015\n",
      "Epoch 27/30\n",
      "826/826 - 3s - 3ms/step - loss: 0.0015\n",
      "Epoch 28/30\n",
      "826/826 - 6s - 7ms/step - loss: 0.0015\n",
      "Epoch 29/30\n",
      "826/826 - 4s - 5ms/step - loss: 0.0015\n",
      "Epoch 30/30\n",
      "826/826 - 5s - 6ms/step - loss: 0.0015\n"
     ]
    },
    {
     "data": {
      "text/plain": [
       "<keras.src.callbacks.history.History at 0x786e171cb190>"
      ]
     },
     "execution_count": 4,
     "metadata": {},
     "output_type": "execute_result"
    }
   ],
   "source": [
    "# Function to create Simple RNN\n",
    "def create_RNN(hidden_units, dense_units, input_shape, activation):\n",
    "    model = Sequential()\n",
    "    model.add(SimpleRNN(hidden_units, input_shape=input_shape, activation=activation[0]))\n",
    "    model.add(Dense(units=dense_units, activation=activation[1]))\n",
    "    model.compile(loss='mse', optimizer='adam')\n",
    "    return model\n",
    "\n",
    "# 1. Predefined parameters\n",
    "time_steps = 20\n",
    "hidden_units = 2\n",
    "epochs = 30\n",
    "\n",
    "# 2. Generate dataset\n",
    "trainX1, trainY1, testX1, testY1, scaler = get_fib_XY(1200, time_steps, 0.7)\n",
    "\n",
    "# 3. Model Created: model_RNN\n",
    "model_RNN = create_RNN(hidden_units=hidden_units, dense_units=1, input_shape=(time_steps,1),\n",
    "activation=['tanh', 'tanh'])\n",
    "\n",
    "# 3.1 Visualize\n",
    "# model_RNN.summary()\n",
    "\n",
    "# 4. Train the network\n",
    "model_RNN.fit(trainX1, trainY1, epochs=epochs, batch_size=1, verbose=2)"
   ]
  },
  {
   "cell_type": "code",
   "execution_count": 5,
   "metadata": {
    "colab": {
     "base_uri": "https://localhost:8080/"
    },
    "executionInfo": {
     "elapsed": 920,
     "status": "ok",
     "timestamp": 1742830528099,
     "user": {
      "displayName": "Sayan De 24MAI0015",
      "userId": "00002623097130699787"
     },
     "user_tz": -330
    },
    "id": "Y6zF7ZZ-rym4",
    "outputId": "01aed9ae-8cdf-43b4-ae25-6b39588f9773"
   },
   "outputs": [
    {
     "name": "stdout",
     "output_type": "stream",
     "text": [
      "\u001b[1m26/26\u001b[0m \u001b[32m━━━━━━━━━━━━━━━━━━━━\u001b[0m\u001b[37m\u001b[0m \u001b[1m0s\u001b[0m 4ms/step - loss: 0.0014\n",
      "\u001b[1m12/12\u001b[0m \u001b[32m━━━━━━━━━━━━━━━━━━━━\u001b[0m\u001b[37m\u001b[0m \u001b[1m0s\u001b[0m 12ms/step - loss: 9.1784e-04\n",
      "Train set MSE =  0.0014474530471488833\n",
      "Test set MSE =  0.0012856258545070887\n"
     ]
    }
   ],
   "source": [
    "# Evaluate model\n",
    "\n",
    "# 5. Evaluate model\n",
    "train_mse = model_RNN.evaluate(trainX1, trainY1)\n",
    "test_mse = model_RNN.evaluate(testX1, testY1)\n",
    "\n",
    "# 6. Print error\n",
    "print(\"Train set MSE = \", train_mse)\n",
    "print(\"Test set MSE = \", test_mse)"
   ]
  },
  {
   "cell_type": "code",
   "execution_count": 6,
   "metadata": {
    "executionInfo": {
     "elapsed": 12,
     "status": "ok",
     "timestamp": 1742830528114,
     "user": {
      "displayName": "Sayan De 24MAI0015",
      "userId": "00002623097130699787"
     },
     "user_tz": -330
    },
    "id": "XMIZ2lHO8fRp"
   },
   "outputs": [],
   "source": [
    "# Function to Build the Attention layer\n",
    "class attention(Layer):\n",
    "    def __init__(self,**kwargs):\n",
    "        super(attention,self).__init__(**kwargs)\n",
    "\n",
    "    def build(self,input_shape):\n",
    "        self.W=self.add_weight(name='attention_weight', shape=(input_shape[-1],1),\n",
    "        initializer='random_normal', trainable=True)\n",
    "        self.b=self.add_weight(name='attention_bias', shape=(input_shape[1],1),\n",
    "        initializer='zeros', trainable=True)\n",
    "        super(attention, self).build(input_shape)\n",
    "\n",
    "    def call(self,x):\n",
    "        # Alignment scores. Pass them through tanh function\n",
    "        e = tfa.tanh(tf.matmul(x,self.W)+self.b)\n",
    "        # Remove dimension of size 1\n",
    "        e = tf.squeeze(e, axis=-1)\n",
    "        # Compute the weights\n",
    "        alpha = tfa.softmax(e)\n",
    "        # Reshape to tensorFlow format\n",
    "        alpha = tf.expand_dims(alpha, axis=-1)\n",
    "        # Compute the context vector\n",
    "        context = x * alpha\n",
    "        context = tf.reduce_sum(context, axis=1)\n",
    "        return context\n",
    "\n",
    "# Function to Create RNN with the attention layer\n",
    "def create_RNN_with_attention(hidden_units, dense_units, input_shape, activation):\n",
    "    x=Input(shape=input_shape)\n",
    "    RNN_layer = SimpleRNN(hidden_units, return_sequences=True, activation=activation)(x)\n",
    "    attention_layer = attention()(RNN_layer)\n",
    "    outputs=Dense(dense_units, trainable=True, activation=activation)(attention_layer)\n",
    "    model=Model(x,outputs)\n",
    "    model.compile(loss='mse', optimizer='adam')\n",
    "    return model"
   ]
  },
  {
   "cell_type": "code",
   "execution_count": 7,
   "metadata": {
    "colab": {
     "base_uri": "https://localhost:8080/"
    },
    "executionInfo": {
     "elapsed": 117332,
     "status": "ok",
     "timestamp": 1742830645454,
     "user": {
      "displayName": "Sayan De 24MAI0015",
      "userId": "00002623097130699787"
     },
     "user_tz": -330
    },
    "id": "1g6acb6r8vSa",
    "outputId": "1db60614-39c9-4dc5-86e4-7de74ac10a0e"
   },
   "outputs": [
    {
     "name": "stdout",
     "output_type": "stream",
     "text": [
      "Epoch 1/30\n",
      "826/826 - 6s - 7ms/step - loss: 0.0014\n",
      "Epoch 2/30\n",
      "826/826 - 3s - 4ms/step - loss: 0.0014\n",
      "Epoch 3/30\n",
      "826/826 - 5s - 6ms/step - loss: 0.0014\n",
      "Epoch 4/30\n",
      "826/826 - 3s - 3ms/step - loss: 0.0014\n",
      "Epoch 5/30\n",
      "826/826 - 3s - 4ms/step - loss: 0.0013\n",
      "Epoch 6/30\n",
      "826/826 - 5s - 7ms/step - loss: 0.0013\n",
      "Epoch 7/30\n",
      "826/826 - 3s - 4ms/step - loss: 0.0013\n",
      "Epoch 8/30\n",
      "826/826 - 3s - 4ms/step - loss: 0.0013\n",
      "Epoch 9/30\n",
      "826/826 - 4s - 5ms/step - loss: 0.0012\n",
      "Epoch 10/30\n",
      "826/826 - 4s - 5ms/step - loss: 0.0012\n",
      "Epoch 11/30\n",
      "826/826 - 3s - 3ms/step - loss: 0.0011\n",
      "Epoch 12/30\n",
      "826/826 - 6s - 7ms/step - loss: 0.0011\n",
      "Epoch 13/30\n",
      "826/826 - 3s - 4ms/step - loss: 0.0011\n",
      "Epoch 14/30\n",
      "826/826 - 6s - 7ms/step - loss: 0.0010\n",
      "Epoch 15/30\n",
      "826/826 - 5s - 6ms/step - loss: 9.5445e-04\n",
      "Epoch 16/30\n",
      "826/826 - 3s - 3ms/step - loss: 9.0647e-04\n",
      "Epoch 17/30\n",
      "826/826 - 3s - 3ms/step - loss: 8.4923e-04\n",
      "Epoch 18/30\n",
      "826/826 - 3s - 4ms/step - loss: 7.9672e-04\n",
      "Epoch 19/30\n",
      "826/826 - 3s - 4ms/step - loss: 7.4330e-04\n",
      "Epoch 20/30\n",
      "826/826 - 5s - 6ms/step - loss: 6.9345e-04\n",
      "Epoch 21/30\n",
      "826/826 - 3s - 4ms/step - loss: 6.4674e-04\n",
      "Epoch 22/30\n",
      "826/826 - 4s - 5ms/step - loss: 6.0017e-04\n",
      "Epoch 23/30\n",
      "826/826 - 3s - 3ms/step - loss: 5.4759e-04\n",
      "Epoch 24/30\n",
      "826/826 - 5s - 6ms/step - loss: 5.0070e-04\n",
      "Epoch 25/30\n",
      "826/826 - 5s - 6ms/step - loss: 4.5489e-04\n",
      "Epoch 26/30\n",
      "826/826 - 3s - 3ms/step - loss: 4.1233e-04\n",
      "Epoch 27/30\n",
      "826/826 - 3s - 3ms/step - loss: 3.6811e-04\n",
      "Epoch 28/30\n",
      "826/826 - 4s - 4ms/step - loss: 3.3111e-04\n",
      "Epoch 29/30\n",
      "826/826 - 3s - 4ms/step - loss: 2.9374e-04\n",
      "Epoch 30/30\n",
      "826/826 - 5s - 6ms/step - loss: 2.6430e-04\n",
      "\u001b[1m26/26\u001b[0m \u001b[32m━━━━━━━━━━━━━━━━━━━━\u001b[0m\u001b[37m\u001b[0m \u001b[1m0s\u001b[0m 3ms/step - loss: 2.0521e-04\n",
      "\u001b[1m12/12\u001b[0m \u001b[32m━━━━━━━━━━━━━━━━━━━━\u001b[0m\u001b[37m\u001b[0m \u001b[1m0s\u001b[0m 4ms/step - loss: 8.6858e-05 \n",
      "Train set MSE with attention =  0.00022351516236085445\n",
      "Test set MSE with attention =  0.00012538133887574077\n"
     ]
    }
   ],
   "source": [
    "# 1. Dataset has already been generated\n",
    "\n",
    "# 2. Model Created: RNN with Attention Layer\n",
    "model1 = create_RNN_with_attention(hidden_units=hidden_units, dense_units=1,input_shape=(time_steps,1), activation='tanh')\n",
    "\n",
    "# 2.1 Visualize:\n",
    "# model_attention.summary()\n",
    "\n",
    "# 3. Train\n",
    "model1.fit(trainX1, trainY1, epochs=epochs, batch_size=1, verbose=2)\n",
    "\n",
    "# 4. Evaluate\n",
    "train_mse1 = model1.evaluate(trainX1, trainY1)\n",
    "test_mse1 = model1.evaluate(testX1, testY1)\n",
    "\n",
    "# 5. Print error\n",
    "print(\"Train set MSE with attention = \", train_mse1)\n",
    "print(\"Test set MSE with attention = \", test_mse1)"
   ]
  },
  {
   "cell_type": "markdown",
   "metadata": {
    "id": "hTP5G1gcoqzt"
   },
   "source": [
    "# Task: Build a custom layer in RNN to predict the next Lucas number.\n",
    "- Create a function to generate the Lucas sequence.\n",
    "- Create a class to implement the Lucas layer.\n",
    "- Integrate the custom layer in simple RNN.\n",
    "- Show the performance of the model."
   ]
  },
  {
   "cell_type": "code",
   "execution_count": 8,
   "metadata": {
    "executionInfo": {
     "elapsed": 111,
     "status": "ok",
     "timestamp": 1742830645587,
     "user": {
      "displayName": "Sayan De 24MAI0015",
      "userId": "00002623097130699787"
     },
     "user_tz": -330
    },
    "id": "G-pR4_B8okp7"
   },
   "outputs": [],
   "source": [
    "# Function to generate Lucas layers\n",
    "class LucasLayer(Layer):\n",
    "    def __init__(self, units, **kwargs):\n",
    "        super(LucasLayer, self).__init__(**kwargs)\n",
    "        self.units = units\n",
    "\n",
    "    def build(self, input_shape):\n",
    "        self.kernel = self.add_weight(shape=(input_shape[-1], self.units),\n",
    "                                      initializer='uniform',\n",
    "                                      name='kernel')\n",
    "        self.bias = self.add_weight(shape=(self.units,),\n",
    "                                    initializer='zeros',\n",
    "                                    name='bias')\n",
    "        super(LucasLayer, self).build(input_shape)\n",
    "\n",
    "    def call(self, inputs):\n",
    "        lucas_numbers = [2, 1]\n",
    "        for _ in range(self.units - 2):\n",
    "            next_lucas = lucas_numbers[-1] + lucas_numbers[-2]\n",
    "            lucas_numbers.append(next_lucas)\n",
    "\n",
    "        output = tf.matmul(inputs, self.kernel) + self.bias\n",
    "        return output\n",
    "\n",
    "# Function to create the RNN with the additional lucas layer\n",
    "def create_RNN_with_lucas(hidden_units, dense_units, input_shape, activation):\n",
    "    model = Sequential()\n",
    "    model.add(SimpleRNN(hidden_units, input_shape=input_shape, activation=activation[0]))\n",
    "    model.add(LucasLayer(units=hidden_units))\n",
    "    model.add(Dense(units=dense_units, activation=activation[1]))\n",
    "    model.compile(loss='mse', optimizer='adam')\n",
    "    return model\n",
    "\n",
    "\n",
    "def get_sequence_data(seq_type, total_numbers, time_steps, train_percent, scale_data=True):\n",
    "    def generate_sequence(n):\n",
    "        seq = np.zeros(n)\n",
    "        if seq_type == 'fib':\n",
    "            n1, n2 = 0.0, 1.0\n",
    "        elif seq_type == 'lucas':\n",
    "            n1, n2 = 2.0, 1.0\n",
    "        else:\n",
    "            raise ValueError(\"Invalid seq_type. Choose 'fib' or 'lucas'.\")\n",
    "\n",
    "        for i in range(n):\n",
    "            seq[i] = n1 + n2\n",
    "            n1, n2 = n2, seq[i]\n",
    "        return seq\n",
    "\n",
    "    dat = generate_sequence(total_numbers)\n",
    "    scaler = []\n",
    "    if scale_data:\n",
    "        scaler = MinMaxScaler(feature_range=(0, 1))\n",
    "        dat = np.reshape(dat, (total_numbers, 1))\n",
    "        dat = scaler.fit_transform(dat).flatten()\n",
    "\n",
    "    Y_ind = np.arange(time_steps, len(dat), 1)\n",
    "    Y = dat[Y_ind]\n",
    "    rows_x = len(Y)\n",
    "    X = dat[0:rows_x]\n",
    "    for i in range(time_steps - 1):\n",
    "        temp = dat[i + 1:rows_x + i + 1]\n",
    "        X = np.column_stack((X, temp))\n",
    "\n",
    "    rand = np.random.RandomState(seed=13)\n",
    "    idx = rand.permutation(rows_x)\n",
    "    split = int(train_percent * rows_x)\n",
    "    train_ind = idx[0:split]\n",
    "    test_ind = idx[split:]\n",
    "    trainX = X[train_ind]\n",
    "    trainY = Y[train_ind]\n",
    "    testX = X[test_ind]\n",
    "    testY = Y[test_ind]\n",
    "    trainX = np.reshape(trainX, (len(trainX), time_steps, 1))\n",
    "    testX = np.reshape(testX, (len(testX), time_steps, 1))\n",
    "    return trainX, trainY, testX, testY, scaler"
   ]
  },
  {
   "cell_type": "code",
   "execution_count": 9,
   "metadata": {
    "colab": {
     "base_uri": "https://localhost:8080/"
    },
    "executionInfo": {
     "elapsed": 89137,
     "status": "ok",
     "timestamp": 1742830734723,
     "user": {
      "displayName": "Sayan De 24MAI0015",
      "userId": "00002623097130699787"
     },
     "user_tz": -330
    },
    "id": "8JaW0GXlpgzw",
    "outputId": "5313a77f-9090-4690-8878-f4329e14dbab"
   },
   "outputs": [
    {
     "name": "stdout",
     "output_type": "stream",
     "text": [
      "Epoch 1/20\n"
     ]
    },
    {
     "name": "stderr",
     "output_type": "stream",
     "text": [
      "/usr/local/lib/python3.11/dist-packages/keras/src/layers/rnn/rnn.py:200: UserWarning: Do not pass an `input_shape`/`input_dim` argument to a layer. When using Sequential models, prefer using an `Input(shape)` object as the first layer in the model instead.\n",
      "  super().__init__(**kwargs)\n"
     ]
    },
    {
     "name": "stdout",
     "output_type": "stream",
     "text": [
      "826/826 - 6s - 7ms/step - loss: 0.0014\n",
      "Epoch 2/20\n",
      "826/826 - 4s - 5ms/step - loss: 0.0014\n",
      "Epoch 3/20\n",
      "826/826 - 6s - 7ms/step - loss: 0.0014\n",
      "Epoch 4/20\n",
      "826/826 - 3s - 4ms/step - loss: 0.0014\n",
      "Epoch 5/20\n",
      "826/826 - 3s - 3ms/step - loss: 0.0014\n",
      "Epoch 6/20\n",
      "826/826 - 3s - 3ms/step - loss: 0.0013\n",
      "Epoch 7/20\n",
      "826/826 - 6s - 8ms/step - loss: 0.0013\n",
      "Epoch 8/20\n",
      "826/826 - 3s - 3ms/step - loss: 0.0012\n",
      "Epoch 9/20\n",
      "826/826 - 5s - 6ms/step - loss: 0.0011\n",
      "Epoch 10/20\n",
      "826/826 - 4s - 5ms/step - loss: 9.3623e-04\n",
      "Epoch 11/20\n",
      "826/826 - 4s - 5ms/step - loss: 8.0492e-04\n",
      "Epoch 12/20\n",
      "826/826 - 5s - 6ms/step - loss: 6.6038e-04\n",
      "Epoch 13/20\n",
      "826/826 - 5s - 6ms/step - loss: 5.1216e-04\n",
      "Epoch 14/20\n",
      "826/826 - 3s - 4ms/step - loss: 3.9681e-04\n",
      "Epoch 15/20\n",
      "826/826 - 6s - 7ms/step - loss: 2.7191e-04\n",
      "Epoch 16/20\n",
      "826/826 - 3s - 3ms/step - loss: 1.8686e-04\n",
      "Epoch 17/20\n",
      "826/826 - 5s - 6ms/step - loss: 1.4038e-04\n",
      "Epoch 18/20\n",
      "826/826 - 3s - 4ms/step - loss: 1.1477e-04\n",
      "Epoch 19/20\n",
      "826/826 - 5s - 6ms/step - loss: 1.0848e-04\n",
      "Epoch 20/20\n",
      "826/826 - 5s - 6ms/step - loss: 9.2176e-05\n"
     ]
    },
    {
     "data": {
      "text/plain": [
       "<keras.src.callbacks.history.History at 0x786e17b84a50>"
      ]
     },
     "execution_count": 9,
     "metadata": {},
     "output_type": "execute_result"
    }
   ],
   "source": [
    "# 1. Predefined parameters\n",
    "time_steps = 20\n",
    "hidden_units = 2\n",
    "epochs = 20\n",
    "\n",
    "# 2. Generate Dataset\n",
    "trainX2, trainY2, testX2, testY2, scaler_lucas = get_sequence_data('lucas', 1200, time_steps, 0.7)\n",
    "\n",
    "# 3. Model Created: model_RNN_with_lucas\n",
    "model2 = create_RNN_with_lucas(hidden_units=hidden_units, dense_units=1, input_shape=(time_steps,1), activation=['tanh', 'tanh'])\n",
    "\n",
    "# 3.1 Visualize\n",
    "# model2.summary()\n",
    "\n",
    "# 4. Train the network\n",
    "model2.fit(trainX2, trainY2, epochs=epochs, batch_size=1, verbose=2)"
   ]
  },
  {
   "cell_type": "code",
   "execution_count": 10,
   "metadata": {
    "colab": {
     "base_uri": "https://localhost:8080/"
    },
    "executionInfo": {
     "elapsed": 963,
     "status": "ok",
     "timestamp": 1742830735693,
     "user": {
      "displayName": "Sayan De 24MAI0015",
      "userId": "00002623097130699787"
     },
     "user_tz": -330
    },
    "id": "t3sCFe9rrti2",
    "outputId": "f1ee9dd5-d40c-43de-c43a-13a7dd91d4c8"
   },
   "outputs": [
    {
     "name": "stdout",
     "output_type": "stream",
     "text": [
      "\u001b[1m26/26\u001b[0m \u001b[32m━━━━━━━━━━━━━━━━━━━━\u001b[0m\u001b[37m\u001b[0m \u001b[1m1s\u001b[0m 6ms/step - loss: 5.7928e-05\n",
      "\u001b[1m12/12\u001b[0m \u001b[32m━━━━━━━━━━━━━━━━━━━━\u001b[0m\u001b[37m\u001b[0m \u001b[1m0s\u001b[0m 6ms/step - loss: 2.0502e-05 \n",
      "Train set MSE with Lucas Layer=  6.103795749368146e-05\n",
      "Test set MSE with Lucas Layer=  8.992853508971166e-06\n"
     ]
    }
   ],
   "source": [
    "# Evaluate model\n",
    "\n",
    "# 5. Evaluate model\n",
    "train_mse2 = model2.evaluate(trainX2, trainY2)\n",
    "test_mse2 = model2.evaluate(testX2, testY2)\n",
    "\n",
    "# 6. Print error\n",
    "print(\"Train set MSE with Lucas Layer= \", train_mse2)\n",
    "print(\"Test set MSE with Lucas Layer= \", test_mse2)"
   ]
  },
  {
   "cell_type": "code",
   "execution_count": 11,
   "metadata": {
    "colab": {
     "base_uri": "https://localhost:8080/",
     "height": 1000
    },
    "executionInfo": {
     "elapsed": 2811,
     "status": "error",
     "timestamp": 1742830738507,
     "user": {
      "displayName": "Sayan De 24MAI0015",
      "userId": "00002623097130699787"
     },
     "user_tz": -330
    },
    "id": "n2zpYs2VyBsW",
    "outputId": "1c24f229-6959-489a-e93e-12211e408a28"
   },
   "outputs": [
    {
     "name": "stdout",
     "output_type": "stream",
     "text": [
      "[NbConvertApp] WARNING | pattern '9.ipynb' matched no files\n",
      "This application is used to convert notebook files (*.ipynb)\n",
      "        to various other formats.\n",
      "\n",
      "        WARNING: THE COMMANDLINE INTERFACE MAY CHANGE IN FUTURE RELEASES.\n",
      "\n",
      "Options\n",
      "=======\n",
      "The options below are convenience aliases to configurable class-options,\n",
      "as listed in the \"Equivalent to\" description-line of the aliases.\n",
      "To see all configurable class-options for some <cmd>, use:\n",
      "    <cmd> --help-all\n",
      "\n",
      "--debug\n",
      "    set log level to logging.DEBUG (maximize logging output)\n",
      "    Equivalent to: [--Application.log_level=10]\n",
      "--show-config\n",
      "    Show the application's configuration (human-readable format)\n",
      "    Equivalent to: [--Application.show_config=True]\n",
      "--show-config-json\n",
      "    Show the application's configuration (json format)\n",
      "    Equivalent to: [--Application.show_config_json=True]\n",
      "--generate-config\n",
      "    generate default config file\n",
      "    Equivalent to: [--JupyterApp.generate_config=True]\n",
      "-y\n",
      "    Answer yes to any questions instead of prompting.\n",
      "    Equivalent to: [--JupyterApp.answer_yes=True]\n",
      "--execute\n",
      "    Execute the notebook prior to export.\n",
      "    Equivalent to: [--ExecutePreprocessor.enabled=True]\n",
      "--allow-errors\n",
      "    Continue notebook execution even if one of the cells throws an error and include the error message in the cell output (the default behaviour is to abort conversion). This flag is only relevant if '--execute' was specified, too.\n",
      "    Equivalent to: [--ExecutePreprocessor.allow_errors=True]\n",
      "--stdin\n",
      "    read a single notebook file from stdin. Write the resulting notebook with default basename 'notebook.*'\n",
      "    Equivalent to: [--NbConvertApp.from_stdin=True]\n",
      "--stdout\n",
      "    Write notebook output to stdout instead of files.\n",
      "    Equivalent to: [--NbConvertApp.writer_class=StdoutWriter]\n",
      "--inplace\n",
      "    Run nbconvert in place, overwriting the existing notebook (only\n",
      "            relevant when converting to notebook format)\n",
      "    Equivalent to: [--NbConvertApp.use_output_suffix=False --NbConvertApp.export_format=notebook --FilesWriter.build_directory=]\n",
      "--clear-output\n",
      "    Clear output of current file and save in place,\n",
      "            overwriting the existing notebook.\n",
      "    Equivalent to: [--NbConvertApp.use_output_suffix=False --NbConvertApp.export_format=notebook --FilesWriter.build_directory= --ClearOutputPreprocessor.enabled=True]\n",
      "--coalesce-streams\n",
      "    Coalesce consecutive stdout and stderr outputs into one stream (within each cell).\n",
      "    Equivalent to: [--NbConvertApp.use_output_suffix=False --NbConvertApp.export_format=notebook --FilesWriter.build_directory= --CoalesceStreamsPreprocessor.enabled=True]\n",
      "--no-prompt\n",
      "    Exclude input and output prompts from converted document.\n",
      "    Equivalent to: [--TemplateExporter.exclude_input_prompt=True --TemplateExporter.exclude_output_prompt=True]\n",
      "--no-input\n",
      "    Exclude input cells and output prompts from converted document.\n",
      "            This mode is ideal for generating code-free reports.\n",
      "    Equivalent to: [--TemplateExporter.exclude_output_prompt=True --TemplateExporter.exclude_input=True --TemplateExporter.exclude_input_prompt=True]\n",
      "--allow-chromium-download\n",
      "    Whether to allow downloading chromium if no suitable version is found on the system.\n",
      "    Equivalent to: [--WebPDFExporter.allow_chromium_download=True]\n",
      "--disable-chromium-sandbox\n",
      "    Disable chromium security sandbox when converting to PDF..\n",
      "    Equivalent to: [--WebPDFExporter.disable_sandbox=True]\n",
      "--show-input\n",
      "    Shows code input. This flag is only useful for dejavu users.\n",
      "    Equivalent to: [--TemplateExporter.exclude_input=False]\n",
      "--embed-images\n",
      "    Embed the images as base64 dataurls in the output. This flag is only useful for the HTML/WebPDF/Slides exports.\n",
      "    Equivalent to: [--HTMLExporter.embed_images=True]\n",
      "--sanitize-html\n",
      "    Whether the HTML in Markdown cells and cell outputs should be sanitized..\n",
      "    Equivalent to: [--HTMLExporter.sanitize_html=True]\n",
      "--log-level=<Enum>\n",
      "    Set the log level by value or name.\n",
      "    Choices: any of [0, 10, 20, 30, 40, 50, 'DEBUG', 'INFO', 'WARN', 'ERROR', 'CRITICAL']\n",
      "    Default: 30\n",
      "    Equivalent to: [--Application.log_level]\n",
      "--config=<Unicode>\n",
      "    Full path of a config file.\n",
      "    Default: ''\n",
      "    Equivalent to: [--JupyterApp.config_file]\n",
      "--to=<Unicode>\n",
      "    The export format to be used, either one of the built-in formats\n",
      "            ['asciidoc', 'custom', 'html', 'latex', 'markdown', 'notebook', 'pdf', 'python', 'qtpdf', 'qtpng', 'rst', 'script', 'slides', 'webpdf']\n",
      "            or a dotted object name that represents the import path for an\n",
      "            ``Exporter`` class\n",
      "    Default: ''\n",
      "    Equivalent to: [--NbConvertApp.export_format]\n",
      "--template=<Unicode>\n",
      "    Name of the template to use\n",
      "    Default: ''\n",
      "    Equivalent to: [--TemplateExporter.template_name]\n",
      "--template-file=<Unicode>\n",
      "    Name of the template file to use\n",
      "    Default: None\n",
      "    Equivalent to: [--TemplateExporter.template_file]\n",
      "--theme=<Unicode>\n",
      "    Template specific theme(e.g. the name of a JupyterLab CSS theme distributed\n",
      "    as prebuilt extension for the lab template)\n",
      "    Default: 'light'\n",
      "    Equivalent to: [--HTMLExporter.theme]\n",
      "--sanitize_html=<Bool>\n",
      "    Whether the HTML in Markdown cells and cell outputs should be sanitized.This\n",
      "    should be set to True by nbviewer or similar tools.\n",
      "    Default: False\n",
      "    Equivalent to: [--HTMLExporter.sanitize_html]\n",
      "--writer=<DottedObjectName>\n",
      "    Writer class used to write the\n",
      "                                        results of the conversion\n",
      "    Default: 'FilesWriter'\n",
      "    Equivalent to: [--NbConvertApp.writer_class]\n",
      "--post=<DottedOrNone>\n",
      "    PostProcessor class used to write the\n",
      "                                        results of the conversion\n",
      "    Default: ''\n",
      "    Equivalent to: [--NbConvertApp.postprocessor_class]\n",
      "--output=<Unicode>\n",
      "    Overwrite base name use for output files.\n",
      "                Supports pattern replacements '{notebook_name}'.\n",
      "    Default: '{notebook_name}'\n",
      "    Equivalent to: [--NbConvertApp.output_base]\n",
      "--output-dir=<Unicode>\n",
      "    Directory to write output(s) to. Defaults\n",
      "                                  to output to the directory of each notebook. To recover\n",
      "                                  previous default behaviour (outputting to the current\n",
      "                                  working directory) use . as the flag value.\n",
      "    Default: ''\n",
      "    Equivalent to: [--FilesWriter.build_directory]\n",
      "--reveal-prefix=<Unicode>\n",
      "    The URL prefix for reveal.js (version 3.x).\n",
      "            This defaults to the reveal CDN, but can be any url pointing to a copy\n",
      "            of reveal.js.\n",
      "            For speaker notes to work, this must be a relative path to a local\n",
      "            copy of reveal.js: e.g., \"reveal.js\".\n",
      "            If a relative path is given, it must be a subdirectory of the\n",
      "            current directory (from which the server is run).\n",
      "            See the usage documentation\n",
      "            (https://nbconvert.readthedocs.io/en/latest/usage.html#reveal-js-html-slideshow)\n",
      "            for more details.\n",
      "    Default: ''\n",
      "    Equivalent to: [--SlidesExporter.reveal_url_prefix]\n",
      "--nbformat=<Enum>\n",
      "    The nbformat version to write.\n",
      "            Use this to downgrade notebooks.\n",
      "    Choices: any of [1, 2, 3, 4]\n",
      "    Default: 4\n",
      "    Equivalent to: [--NotebookExporter.nbformat_version]\n",
      "\n",
      "Examples\n",
      "--------\n",
      "\n",
      "    The simplest way to use nbconvert is\n",
      "\n",
      "            > jupyter nbconvert mynotebook.ipynb --to html\n",
      "\n",
      "            Options include ['asciidoc', 'custom', 'html', 'latex', 'markdown', 'notebook', 'pdf', 'python', 'qtpdf', 'qtpng', 'rst', 'script', 'slides', 'webpdf'].\n",
      "\n",
      "            > jupyter nbconvert --to latex mynotebook.ipynb\n",
      "\n",
      "            Both HTML and LaTeX support multiple output templates. LaTeX includes\n",
      "            'base', 'article' and 'report'.  HTML includes 'basic', 'lab' and\n",
      "            'classic'. You can specify the flavor of the format used.\n",
      "\n",
      "            > jupyter nbconvert --to html --template lab mynotebook.ipynb\n",
      "\n",
      "            You can also pipe the output to stdout, rather than a file\n",
      "\n",
      "            > jupyter nbconvert mynotebook.ipynb --stdout\n",
      "\n",
      "            PDF is generated via latex\n",
      "\n",
      "            > jupyter nbconvert mynotebook.ipynb --to pdf\n",
      "\n",
      "            You can get (and serve) a Reveal.js-powered slideshow\n",
      "\n",
      "            > jupyter nbconvert myslides.ipynb --to slides --post serve\n",
      "\n",
      "            Multiple notebooks can be given at the command line in a couple of\n",
      "            different ways:\n",
      "\n",
      "            > jupyter nbconvert notebook*.ipynb\n",
      "            > jupyter nbconvert notebook1.ipynb notebook2.ipynb\n",
      "\n",
      "            or you can specify the notebooks list in a config file, containing::\n",
      "\n",
      "                c.NbConvertApp.notebooks = [\"my_notebook.ipynb\"]\n",
      "\n",
      "            > jupyter nbconvert --config mycfg.py\n",
      "\n",
      "To see all available configurables, use `--help-all`.\n",
      "\n"
     ]
    },
    {
     "ename": "FileNotFoundError",
     "evalue": "Cannot find file: 9.pdf",
     "output_type": "error",
     "traceback": [
      "\u001b[0;31m---------------------------------------------------------------------------\u001b[0m",
      "\u001b[0;31mFileNotFoundError\u001b[0m                         Traceback (most recent call last)",
      "\u001b[0;32m<ipython-input-11-0a22b57c6682>\u001b[0m in \u001b[0;36m<cell line: 0>\u001b[0;34m()\u001b[0m\n\u001b[1;32m      4\u001b[0m \u001b[0;34m\u001b[0m\u001b[0m\n\u001b[1;32m      5\u001b[0m \u001b[0;32mfrom\u001b[0m \u001b[0mgoogle\u001b[0m\u001b[0;34m.\u001b[0m\u001b[0mcolab\u001b[0m \u001b[0;32mimport\u001b[0m \u001b[0mfiles\u001b[0m\u001b[0;34m\u001b[0m\u001b[0;34m\u001b[0m\u001b[0m\n\u001b[0;32m----> 6\u001b[0;31m \u001b[0mfiles\u001b[0m\u001b[0;34m.\u001b[0m\u001b[0mdownload\u001b[0m\u001b[0;34m(\u001b[0m\u001b[0;34m\"9.pdf\"\u001b[0m\u001b[0;34m)\u001b[0m\u001b[0;34m\u001b[0m\u001b[0;34m\u001b[0m\u001b[0m\n\u001b[0m",
      "\u001b[0;32m/usr/local/lib/python3.11/dist-packages/google/colab/files.py\u001b[0m in \u001b[0;36mdownload\u001b[0;34m(filename)\u001b[0m\n\u001b[1;32m    231\u001b[0m   \u001b[0;32mif\u001b[0m \u001b[0;32mnot\u001b[0m \u001b[0m_os\u001b[0m\u001b[0;34m.\u001b[0m\u001b[0mpath\u001b[0m\u001b[0;34m.\u001b[0m\u001b[0mexists\u001b[0m\u001b[0;34m(\u001b[0m\u001b[0mfilename\u001b[0m\u001b[0;34m)\u001b[0m\u001b[0;34m:\u001b[0m\u001b[0;34m\u001b[0m\u001b[0;34m\u001b[0m\u001b[0m\n\u001b[1;32m    232\u001b[0m     \u001b[0mmsg\u001b[0m \u001b[0;34m=\u001b[0m \u001b[0;34m'Cannot find file: {}'\u001b[0m\u001b[0;34m.\u001b[0m\u001b[0mformat\u001b[0m\u001b[0;34m(\u001b[0m\u001b[0mfilename\u001b[0m\u001b[0;34m)\u001b[0m\u001b[0;34m\u001b[0m\u001b[0;34m\u001b[0m\u001b[0m\n\u001b[0;32m--> 233\u001b[0;31m     \u001b[0;32mraise\u001b[0m \u001b[0mFileNotFoundError\u001b[0m\u001b[0;34m(\u001b[0m\u001b[0mmsg\u001b[0m\u001b[0;34m)\u001b[0m  \u001b[0;31m# pylint: disable=undefined-variable\u001b[0m\u001b[0;34m\u001b[0m\u001b[0;34m\u001b[0m\u001b[0m\n\u001b[0m\u001b[1;32m    234\u001b[0m \u001b[0;34m\u001b[0m\u001b[0m\n\u001b[1;32m    235\u001b[0m   \u001b[0mcomm_manager\u001b[0m \u001b[0;34m=\u001b[0m \u001b[0m_IPython\u001b[0m\u001b[0;34m.\u001b[0m\u001b[0mget_ipython\u001b[0m\u001b[0;34m(\u001b[0m\u001b[0;34m)\u001b[0m\u001b[0;34m.\u001b[0m\u001b[0mkernel\u001b[0m\u001b[0;34m.\u001b[0m\u001b[0mcomm_manager\u001b[0m\u001b[0;34m\u001b[0m\u001b[0;34m\u001b[0m\u001b[0m\n",
      "\u001b[0;31mFileNotFoundError\u001b[0m: Cannot find file: 9.pdf"
     ]
    }
   ],
   "source": [
    "# Export to PDF\n",
    "# !apt install -y texlive-xetex texlive-fonts-recommended texlive-latex-extra pandoc\n",
    "!jupyter nbconvert --to pdf \"10.ipynb\"\n",
    "\n",
    "from google.colab import files\n",
    "files.download(\"10.pdf\")"
   ]
  }
 ],
 "metadata": {
  "colab": {
   "provenance": []
  },
  "kernelspec": {
   "display_name": "Python 3",
   "name": "python3"
  },
  "language_info": {
   "name": "python"
  }
 },
 "nbformat": 4,
 "nbformat_minor": 0
}

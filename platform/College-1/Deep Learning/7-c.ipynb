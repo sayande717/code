{
 "cells": [
  {
   "cell_type": "code",
   "execution_count": 1,
   "metadata": {},
   "outputs": [],
   "source": [
    "import numpy as np"
   ]
  },
  {
   "cell_type": "code",
   "execution_count": 11,
   "metadata": {},
   "outputs": [
    {
     "name": "stdout",
     "output_type": "stream",
     "text": [
      "[1.361 1.381 1.081 0.921]\n"
     ]
    }
   ],
   "source": [
    "X = np.array([0.5,\n",
    "              1.0,\n",
    "              0.8])\n",
    "\n",
    "W = np.array([[0.81,0.12,0.92],\n",
    "              [0.33,0.44,0.72],\n",
    "              [0.29,0.22,0.52],\n",
    "              [0.37,0.12,0.27]])\n",
    "\n",
    "B = np.array([0.1,0.2,0.3,0.4])\n",
    "\n",
    "H = np.add(np.dot(W,X),B)\n",
    "\n",
    "print(H)"
   ]
  }
 ],
 "metadata": {
  "kernelspec": {
   "display_name": "college-1",
   "language": "python",
   "name": "python3"
  },
  "language_info": {
   "codemirror_mode": {
    "name": "ipython",
    "version": 3
   },
   "file_extension": ".py",
   "mimetype": "text/x-python",
   "name": "python",
   "nbconvert_exporter": "python",
   "pygments_lexer": "ipython3",
   "version": "3.11.5"
  }
 },
 "nbformat": 4,
 "nbformat_minor": 2
}

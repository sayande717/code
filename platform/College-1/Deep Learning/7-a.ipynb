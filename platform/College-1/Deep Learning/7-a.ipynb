{
 "cells": [
  {
   "cell_type": "markdown",
   "metadata": {},
   "source": [
    "- w1**2: $w_1^{2}$"
   ]
  },
  {
   "cell_type": "code",
   "execution_count": 4,
   "metadata": {},
   "outputs": [
    {
     "name": "stdout",
     "output_type": "stream",
     "text": [
      "Function 1: 45, Gradient: [24  6]\n",
      "Function 2: 1, Gradient: 2\n"
     ]
    }
   ],
   "source": [
    "import numpy as np\n",
    "# Function 1\n",
    "def f1(w1,w2):\n",
    "    return 3*w1**2+2*w1*w2\n",
    "\n",
    "def grad_f1(w1,w2):\n",
    "    grad_1 = 6*w1+2*w2\n",
    "    grad_2 = 2*w1\n",
    "    return np.array([grad_1,grad_2])\n",
    "\n",
    "w1,w2 = 3,3\n",
    "\n",
    "print(f\"Function 1: {f1(w1,w2)}, Gradient: {grad_f1(w1,w2)}\")\n",
    "\n",
    "# Function 2\n",
    "def f2(w):\n",
    "    return w**2\n",
    "\n",
    "def grad_f2(w):\n",
    "    return 2*w\n",
    "\n",
    "w = 1\n",
    "\n",
    "print(f\"Function 2: {f2(w)}, Gradient: {grad_f2(w)}\")\n"
   ]
  }
 ],
 "metadata": {
  "kernelspec": {
   "display_name": "college-1",
   "language": "python",
   "name": "python3"
  },
  "language_info": {
   "codemirror_mode": {
    "name": "ipython",
    "version": 3
   },
   "file_extension": ".py",
   "mimetype": "text/x-python",
   "name": "python",
   "nbconvert_exporter": "python",
   "pygments_lexer": "ipython3",
   "version": "3.9.21"
  }
 },
 "nbformat": 4,
 "nbformat_minor": 2
}

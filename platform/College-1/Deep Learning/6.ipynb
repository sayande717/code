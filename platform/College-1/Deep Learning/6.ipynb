{
  "cells": [
    {
      "cell_type": "code",
      "execution_count": null,
      "metadata": {
        "colab": {
          "base_uri": "https://localhost:8080/"
        },
        "id": "nm982Xqy8s4e",
        "outputId": "7a6f2e9d-759a-40f5-8a9b-8ec621265528"
      },
      "outputs": [],
      "source": [
        "import os\n",
        "import glob\n",
        "# from google.colab import drive\n",
        "# drive.mount(\"dataset\")"
      ]
    },
    {
      "cell_type": "code",
      "execution_count": null,
      "metadata": {
        "colab": {
          "base_uri": "https://localhost:8080/"
        },
        "id": "l3SdjLyy_aRR",
        "outputId": "9265d459-c12d-4810-ae5d-7f297ff812f0"
      },
      "outputs": [
        {
          "name": "stdout",
          "output_type": "stream",
          "text": [
            "0 Classes\n",
            "-1 Train images\n",
            "-1 Test images\n"
          ]
        }
      ],
      "source": [
        "train_dir=\"/dataset/MyDrive/'Colab Notebooks'/MCSE503P/Dataset/Lab 6/train\"\n",
        "test_dir=\"/dataset/MyDrive/'Colab Notebooks'/MCSE503P/Dataset/Lab 6/test-small\"\n",
        "\n",
        "# Get number of images\n",
        "def get_files(directory):\n",
        "    if not os.path.exists(directory):\n",
        "        return -1\n",
        "    count=0\n",
        "    for current_path,dirs,files in os.walk(directory):\n",
        "        for dr in dirs:\n",
        "            count += len(glob.glob(os.path.join(current_path,dr+\"/*\")))\n",
        "    return count\n",
        "\n",
        "train_samples = get_files(train_dir)\n",
        "num_classes=len(glob.glob(train_dir+\"/*\"))\n",
        "test_samples = get_files(test_dir)\n",
        "print(num_classes,\"Classes\")\n",
        "print(train_samples,\"Train images\")\n",
        "print(test_samples,\"Test images\")"
      ]
    }
  ],
  "metadata": {
    "colab": {
      "provenance": []
    },
    "kernelspec": {
      "display_name": "Python 3",
      "name": "python3"
    },
    "language_info": {
      "name": "python"
    }
  },
  "nbformat": 4,
  "nbformat_minor": 0
}
